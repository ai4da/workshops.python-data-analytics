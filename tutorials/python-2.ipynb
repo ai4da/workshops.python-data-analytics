{
 "cells": [
  {
   "cell_type": "markdown",
   "metadata": {},
   "source": [
    "# Part II: The Power of Comprehensions and Functions in Python\n",
    "\n",
    "## Comprehensions: Concise data processing\n",
    "\n",
    "A comprehension provides a concise way to generate, transform, or filter iterable objects in Python without using explicit loops. Comprehensions allow you to:\n",
    "\n",
    "- Generate new iterables like lists, sets or dictionaries\n",
    "- Filter elements based on logical conditions\n",
    "- Apply functions/operations on iterable objects like lists and tuples\n",
    "\n",
    "This leads to simple yet idiomatic code that is recognizable to Python developers.\n",
    "\n",
    "The basic syntax for a comprehension is:\n",
    "\n",
    "```python\n",
    "[expression for item in iterable]\n",
    "```\n",
    "This creates a new list by applying `expression` on each `item` from `iterable`. For example:"
   ]
  },
  {
   "cell_type": "code",
   "execution_count": null,
   "metadata": {},
   "outputs": [],
   "source": [
    "# Create a list of squares from a range of numbers from 1 to 10:\n",
    "squares = [n**2 for n in range(1, 6)]\n",
    "print(squares)  # Prints [1, 4, 9, 16, 25]\n",
    "\n",
    "# Create a set composing of tuples of square numbers and their negatives:\n",
    "my_pairs = {(n, -n) for n in squares}\n",
    "print(my_pairs)\n",
    "\n",
    "# Create a dictionary that maps some numbers to their inverses:\n",
    "inverses = {n: 1 / n for n in range(1, 6)}\n",
    "print(inverses[4])  # Prints 0.25"
   ]
  },
  {
   "cell_type": "markdown",
   "metadata": {},
   "source": [
    "You can add an `if` condition to filter items:"
   ]
  },
  {
   "cell_type": "code",
   "execution_count": null,
   "metadata": {},
   "outputs": [],
   "source": [
    "my_numbers = [1, -2, 0, 4, -3]\n",
    "positive_numbers = [n for n in my_numbers if n > 0]\n",
    "\n",
    "print(positive_numbers)  # Prints [1, 4]"
   ]
  },
  {
   "cell_type": "markdown",
   "metadata": {},
   "source": [
    "You can also use the `if`/`else` clause within a comprehension to perform different transformations based on a condition. The syntax is:\n",
    "\n",
    "```python\n",
    "[true_expression if condition else false_expression for item in iterable]\n",
    "```\n",
    "\n",
    "For each item in the iterable, the condition is evaluated:\n",
    "\n",
    "- If `True`, `true_expression` is applied to the item\n",
    "- If `False`, `false_expression` is executed instead.\n",
    "\n",
    "This builds a new iterable by transforming items conditionally. For example:"
   ]
  },
  {
   "cell_type": "code",
   "execution_count": null,
   "metadata": {},
   "outputs": [],
   "source": [
    "absolute_numbers = [n if n >= 0 else -n for n in my_numbers]\n",
    "\n",
    "print(absolute_numbers)  # Prints [1, 2, 0, 4, 3]"
   ]
  },
  {
   "cell_type": "markdown",
   "metadata": {},
   "source": [
    "Here, for positive numbers the conditional expression returns the number unchanged. But negative numbers are multiplied by -1 to make them positive."
   ]
  },
  {
   "cell_type": "markdown",
   "metadata": {},
   "source": [
    "## Functions: Reuse and organize your code\n",
    "\n",
    "A function is a block of code that performs a specific task and can be called by other parts of the program. Functions can make your code more modular, readable, and maintainable.\n",
    "To define a function in Python, we use the `def` keyword, followed by the name of the function, and optionally, one or more *parameters* (or *arguments*):\n",
    "\n",
    "```python\n",
    "def function_name(arg1, arg2, ...):\n",
    "    # function body that determines the return value based on the arguments\n",
    "    result = ...\n",
    "    return result\n",
    "```\n",
    "\n",
    "To call a function, we use the following syntax:\n",
    "\n",
    "```python\n",
    "result = function_name(arg1, arg2, ...)\n",
    "```\n",
    "\n",
    "You can define a function that without any arguments, or without any return value.\n",
    "\n",
    "Here are some examples of defining and calling functions in Python:"
   ]
  },
  {
   "cell_type": "code",
   "execution_count": null,
   "metadata": {},
   "outputs": [],
   "source": [
    "# Here is a function that prints a message\n",
    "def hello():\n",
    "    print(\"Hello, World!\")\n",
    "    # This function simply prints a string.\n",
    "    # It has no arguments and does not return anything\n",
    "\n",
    "\n",
    "# Define a function that prints a greeting message\n",
    "def greet(name):\n",
    "    print(f\"Hello, {name}!\")\n",
    "\n",
    "\n",
    "# Define a function that calculates the area of a circle\n",
    "def area(radius):\n",
    "    # The function returns a value to the caller\n",
    "    return 3.14 * radius**2\n",
    "\n",
    "\n",
    "# Calling the functions\n",
    "hello()\n",
    "greet(\"Alice\")\n",
    "greet(\"Bob\")\n",
    "\n",
    "circle_area = area(5)\n",
    "print(circle_area)"
   ]
  },
  {
   "cell_type": "markdown",
   "metadata": {},
   "source": [
    "> *Note*: When a function returns a value, it exits immediately and does not execute any more code after the return statement:"
   ]
  },
  {
   "cell_type": "code",
   "execution_count": null,
   "metadata": {},
   "outputs": [],
   "source": [
    "def test():\n",
    "    print(\"Hello\")\n",
    "    return 0\n",
    "    print(\"Bye\")\n",
    "    return 1\n",
    "\n",
    "\n",
    "a = test()\n",
    "print(a)\n",
    "\n",
    "# Output:\n",
    "# Hello\n",
    "# 0"
   ]
  },
  {
   "cell_type": "markdown",
   "metadata": {},
   "source": [
    "There are different ways of passing arguments to functions in Python, such as positional arguments, keyword arguments, and default arguments.\n",
    "\n",
    "- Positional arguments are the most common way of passing arguments to functions. They are matched by their order in the function call and the function definition. For example:"
   ]
  },
  {
   "cell_type": "code",
   "execution_count": null,
   "metadata": {},
   "outputs": [],
   "source": [
    "def do_the_math(a, b):\n",
    "    return 2 * a + b\n",
    "\n",
    "\n",
    "# Call the function with two positional arguments\n",
    "print(do_the_math(2, 3))  # Prints 7"
   ]
  },
  {
   "cell_type": "markdown",
   "metadata": {},
   "source": [
    "- Keyword arguments are arguments that are specified by their name in the function call. They are matched by their name in the function definition. Keyword arguments can be used to improve the readability and clarity of the code, and to avoid confusion when there are many arguments. For example:"
   ]
  },
  {
   "cell_type": "code",
   "execution_count": null,
   "metadata": {},
   "outputs": [],
   "source": [
    "# Define a function that takes two keyword arguments\n",
    "def greet(first_name, last_name):\n",
    "    print(f\"Hello, {first_name} {last_name}!\")\n",
    "\n",
    "\n",
    "# Call the function with two keyword arguments\n",
    "greet(first_name=\"Alice\", last_name=\"Smith\")  # Prints \"Hello, Alice Smith!\"\n",
    "greet(last_name=\"Lee\", first_name=\"Bob\")  # Prints \"Hello, Bob Lee!\""
   ]
  },
  {
   "cell_type": "markdown",
   "metadata": {},
   "source": [
    "- Default arguments are arguments that have a default value in the function definition. They are optional in the function call, and if they are not provided, the default value is used. Default arguments can be used to simplify the function call and to provide reasonable defaults for common cases. For example:"
   ]
  },
  {
   "cell_type": "code",
   "execution_count": null,
   "metadata": {},
   "outputs": [],
   "source": [
    "# Define a function that takes one positional argument and one default argument\n",
    "def greet(name, message=\"How are you?\"):\n",
    "    print(f\"Hello, {name}! {message}\")\n",
    "\n",
    "\n",
    "# Call the function with and without the default argument\n",
    "greet(\"Alice\")\n",
    "greet(\"Bob\", \"Nice to meet you!\")\n",
    "\n",
    "\n",
    "def area(width, height=None):\n",
    "    if height is None:\n",
    "        return width * width\n",
    "\n",
    "    # no need for `else` as the function terminates\n",
    "    # once the above condition is met\n",
    "    return width * height\n",
    "\n",
    "\n",
    "print((area(3, 4)))  # Prints are of a 3x4 rectangle\n",
    "print((area(3)))  # Prints are of a square with a side length of 3"
   ]
  },
  {
   "cell_type": "markdown",
   "metadata": {},
   "source": [
    "Python has many built-in functions that can be used directly in your code without importing any external libraries. They provide essential and commonly used functionality for various tasks, such as data type conversion, mathematical operations, string manipulation, file operations, etc. You can find a complete list of Python built-in functions [here](https://docs.python.org/3/library/functions.html). Some of the useful basic built-in functions in Python are:\n",
    "\n",
    "| Function | Description |\n",
    "| --- | --- |\n",
    "| `print()` | Prints the given objects to the standard output, separated by a space, and followed by a newline by default. You can change the separator, and the end character, with the optional arguments. |\n",
    "| `len()` | Returns the length of an object. |\n",
    "| `abs()` | Returns the absolute value of a number. |\n",
    "| `min()` | Returns the smallest element in an iterable object. |\n",
    "| `max()` | Returns the largest element in an iterable object. |\n",
    "| `sum()` | Returns the sum of an iterable object. |\n",
    "| `round()` | Rounds a number to a specified number of decimal places. |\n",
    "| `all()` | Returns True if all elements in an iterable object are true (or if the iterable object is empty). |\n",
    "| `any()` | Returns True if any element in an iterable object is true. |\n",
    "| `sorted()` | Returns a new sorted list from an iterable object. |\n",
    "| `range()` | Returns a range object. |\n",
    "| `int()` | Converts a value to an integer. |\n",
    "| `float()` | Converts a value to a floating-point number. |\n",
    "| `str()` | Converts a value to a string. |\n",
    "\n",
    "Example:"
   ]
  },
  {
   "cell_type": "code",
   "execution_count": null,
   "metadata": {},
   "outputs": [],
   "source": [
    "my_numbers = [1, -2, 1, 4, -3]\n",
    "sorted_numbers = sorted(my_numbers)  # Returns a new list without modifying the original list\n",
    "# Combining the list comprehension and function calls:\n",
    "absolute_numbers = [abs(n) for n in my_numbers]\n",
    "min_value, max_value = min(my_numbers), max(my_numbers)\n",
    "average = sum(my_numbers) / len(my_numbers)\n",
    "rounded_average = round(average, ndigits=2)\n",
    "# The `ndigits` argument specifies the number of decimal places.\n",
    "# If not specified, it defaults to 0.\n",
    "\n",
    "print(sorted_numbers)  # Prints [-3, -2, -1, 0, 1, 4]\n",
    "print(min_value, rounded_average, float(max_value), sep=\", \")  # Prints -3, 0.2, 4.0\n",
    "\n",
    "for number in absolute_numbers:\n",
    "    print(str(number) + \",\", end=\" \")  # Prints 1, 2, 1, 4, 3,\n",
    "\n",
    "print()\n",
    "# Create a list of boolean values corresponding to the positive numbers in my_numbers\n",
    "test_positives = [n > 0 for n in my_numbers]\n",
    "print(test_positives)  # Prints [True, False, True, True, False]\n",
    "# Check if all numbers are positive\n",
    "print(all(test_positives))  # Prints False\n",
    "# Check if there is at least one positive number\n",
    "print(any(test_positives))  # Prints True"
   ]
  },
  {
   "cell_type": "markdown",
   "metadata": {},
   "source": [
    "## Modules and libraries in Python: Extending the limits\n",
    "\n",
    "In Python, a module is a file that contains Python code, such as definitions of functions, classes, and variables. A library or a package is a collection of modules that provide related functionalities, such as performing mathematical operations, working with files and directories, or creating graphical user interfaces.\n",
    "\n",
    "Modules and libraries are useful because they allow us to reuse existing code, avoid duplication, organize our code into logical units, and access additional features that are not built into the Python language. For example, we can use the `os` module to interact with the operating system, or the `math` module to perform advanced mathematical calculations.\n",
    "\n",
    "To use a module or a library, we need to import it into our program. There are different ways to import modules and libraries, depending on how we want to access their contents. Here are some examples:\n",
    "\n",
    "- To import an entire module, we use the syntax `import module_name`. This allows us to access any function, class, or variable defined in the module by using the dot notation: `module_name.function_name()`, `module_name.class_name()`, or `module_name.variable_name`. For example:"
   ]
  },
  {
   "cell_type": "code",
   "execution_count": null,
   "metadata": {},
   "outputs": [],
   "source": [
    "# Import the math module\n",
    "import math\n",
    "\n",
    "# Use the pi constant from the math module\n",
    "print(math.pi)\n",
    "\n",
    "# Use the sqrt function from the math module\n",
    "print(math.sqrt(25))"
   ]
  },
  {
   "cell_type": "markdown",
   "metadata": {},
   "source": [
    "- To import a specific function, class, or variable from a module, we use the syntax `from module_name import name`. This allows us to access the imported name directly, without using the dot notation. For example:"
   ]
  },
  {
   "cell_type": "code",
   "execution_count": null,
   "metadata": {},
   "outputs": [],
   "source": [
    "# Import the sqrt function from the math module\n",
    "from math import sqrt\n",
    "\n",
    "# Use the sqrt function directly\n",
    "print(sqrt(25))"
   ]
  },
  {
   "cell_type": "markdown",
   "metadata": {},
   "source": [
    "- To import multiple names from a module, we use the syntax `from module_name import name1, name2, ...`:"
   ]
  },
  {
   "cell_type": "code",
   "execution_count": null,
   "metadata": {},
   "outputs": [],
   "source": [
    "# Import the pi constant and the sin function from the math module\n",
    "from math import pi, sin\n",
    "\n",
    "# Use the pi constant and the sin function directly\n",
    "print(pi)\n",
    "print(sin(pi / 6))"
   ]
  },
  {
   "cell_type": "markdown",
   "metadata": {},
   "source": [
    "- To import all the names from a module, we use the syntax `from module_name import *`. This allows us to access all the names defined in the module directly, without using the dot notation. However, this is not recommended, as it may cause name conflicts with other modules or our own code. For example:"
   ]
  },
  {
   "cell_type": "code",
   "execution_count": null,
   "metadata": {},
   "outputs": [],
   "source": [
    "# Import all the names from the math module\n",
    "from math import *\n",
    "\n",
    "# Use the pi constant and the sqrt function directly\n",
    "print(pi)  # Uses the pi constant from the math module\n",
    "print(sqrt(25))\n",
    "\n",
    "pi = 3.14\n",
    "print(pi)  # Uses your defined pi"
   ]
  },
  {
   "cell_type": "markdown",
   "metadata": {},
   "source": [
    "To import a module or a name from a module with a different name, we use the syntax `import module_name as new_name` or `from module_name import name as new_name`. This allows us to use the new name instead of the original name, which can be useful if the original name is too long, too common, or conflicts with another name. For example:"
   ]
  },
  {
   "cell_type": "code",
   "execution_count": null,
   "metadata": {},
   "outputs": [],
   "source": [
    "# Import the math module as m\n",
    "import math as m\n",
    "\n",
    "# Use the pi constant and the sqrt function from the math module with the prefix m\n",
    "print(m.pi)\n",
    "print(m.sqrt(25))\n",
    "\n",
    "# Import the sqrt function from the math module as square_root\n",
    "from math import sqrt as square_root\n",
    "\n",
    "# Import the pi constant from the math module as original_pi\n",
    "from math import pi as original_pi\n",
    "\n",
    "# Use the square_root function directly\n",
    "print(square_root(25))\n",
    "print(pi)\n",
    "print(original_pi)"
   ]
  },
  {
   "cell_type": "markdown",
   "metadata": {},
   "source": [
    "To import a function from a module in a library, you need to use the `from` keyword, followed by the library name, the module name, and the function name. The syntax is:\n",
    "```python\n",
    "from library_name.module_name import function_name (as new_name)\n",
    "```\n",
    "For example, to import the `norm` function from the `linalg` module in the `numpy` library, you can use the following code:"
   ]
  },
  {
   "cell_type": "code",
   "execution_count": null,
   "metadata": {},
   "outputs": [],
   "source": [
    "from numpy.linalg import norm\n",
    "\n",
    "print(norm([3, 4]))  # Prints 5.0"
   ]
  }
 ],
 "metadata": {
  "kernelspec": {
   "display_name": ".venv",
   "language": "python",
   "name": "python3"
  },
  "language_info": {
   "codemirror_mode": {
    "name": "ipython",
    "version": 3
   },
   "file_extension": ".py",
   "mimetype": "text/x-python",
   "name": "python",
   "nbconvert_exporter": "python",
   "pygments_lexer": "ipython3",
   "version": "3.11.6"
  }
 },
 "nbformat": 4,
 "nbformat_minor": 2
}
