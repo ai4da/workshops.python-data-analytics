{
 "cells": [
  {
   "cell_type": "markdown",
   "metadata": {},
   "source": [
    "# Google Colab: A Free and Powerful Platform for Python Programming\n",
    "\n",
    "## Introduction\n",
    "\n",
    "**Google Colaboratory** (**Colab**) is a free cloud service by Google Research that lets you write and run Python code in your browser. With Colab, you can access GPUs and other computing resources for large-scale data analysis and machine learning. Colab is based on Jupyter, so you can use many Python libraries and tools.\n",
    "\n",
    "### Key features:\n",
    "\n",
    "- Seamless Collaboration: Share and work with others in real-time, like Google Docs.\n",
    "- Easy Integration with Google Drive: Store and access your notebooks from Google Drive.\n",
    "\n",
    "### Creating a Colab notebook\n",
    "\n",
    "A *notebook* is an interactive document that contains code cells and text cells. Code cells are where you write and run Python code, while text cells are where you write explanatory comments or instructions. For a sample notebook, see the [Colab overview](https://colab.research.google.com/notebooks/basic_features_overview.ipynb).\n",
    "\n",
    "To get started, go to [Colab website](https://colab.research.google.com/) and login with your Google account.\n",
    "Click on the *File* menu above and select *New notebook* to create a new notebook.\n",
    "\n",
    "You can also create a new notebook from the [Google Drive](https://drive.google.com/drive/home) page by clicking on *New*, then *More*, then *Google Collaboratory*. This will open a new notebook with the default Colab toolbar and an empty code cell. You can now start writing Python code in it that will execute on Colab's cloud backend.\n",
    "\n",
    "> *Note*: If you do not see the *Google Collaboratory* option in the *New* menu, you need to connect the app first. To do so, click on *Connect more apps* via *New > More*. This opens the *Google Workspace Marketplace* window. Search for *Collaboratory* and install *Colaboratory* (by *Colaboratory team*)."
   ]
  },
  {
   "cell_type": "markdown",
   "metadata": {},
   "source": [
    "### Working with code cells\n",
    "\n",
    "To write your commands or Python code in Google Colab, you need to create a code cell and type your code in it. To add a new code cell, click the *+ Code* button at the top of the notebook or below any cell that you hover with your mouse, select on *Insert > Code cell* from the menu, or use the *⌘/Ctrl+M+B* keyboard shortcut.\n",
    "\n",
    "To run the code in a cell, click the ▶ (Play) button at the top left corner of the code cell, or press *Ctrl + Enter*.\n",
    "This will execute the code and display the output below the cell.\n",
    "\n",
    "For example, let's print \"Hello Colab!\" by writing the following in a code cell:"
   ]
  },
  {
   "cell_type": "code",
   "execution_count": null,
   "metadata": {},
   "outputs": [],
   "source": [
    "print(\"Hello Colab!\")"
   ]
  },
  {
   "cell_type": "markdown",
   "metadata": {},
   "source": [
    "And then run the cell. The output will be:\n",
    "```text\n",
    "Hello Colab!\n",
    "```\n",
    "\n",
    "We can also run shell commands in Colab notebooks. Commands start with an `!` then the name. For example, `!pwd` prints the current working directory path.\n",
    "\n",
    "Let's check the Python version:"
   ]
  },
  {
   "cell_type": "code",
   "execution_count": null,
   "metadata": {},
   "outputs": [],
   "source": [
    "!python --version"
   ]
  },
  {
   "cell_type": "markdown",
   "metadata": {},
   "source": [
    "This displays the version of Python being used. For example,\n",
    "\n",
    "```text\n",
    "Python 3.10.12\n",
    "```\n",
    "\n",
    "We can install python packages and run python scripts using similar `!` syntax."
   ]
  },
  {
   "cell_type": "markdown",
   "metadata": {},
   "source": [
    "## Installing Python packages\n",
    "\n",
    "In this course, we will use various Python packages to perform data manipulation, data analysis, data visualization, and numerical optimization.\n",
    "Python packages (or libraries) are collections of modules that provide specific functions or features. We can install and import these packages directly in our Google Colab notebooks to use them in our code. Below are some popular packages we will use and their purpose:\n",
    "\n",
    "- **Data handling and analysis**: These packages enable working with diverse data types like arrays, data frames, or time series. They also facilitate tasks like cleaning, processing, aggregating, and manipulating data. Key packages include:\n",
    "  - *NumPy*: Supports for multidimensional arrays and matrices, along with mathematical functions and operations on them. NumPy is ideal for scientific computing needs like creating/manipulating arrays, linear algebra, and mathematical applications.\n",
    "  - *Pandas*: Offers high-performance data structures and analysis tools for tabular data. Its DataFrame can store/process data in rows and columns with multiple methods for indexing, filtering, grouping, and reshaping. Pandas allows reading, writing, and exploring data from sources like CSV, Excel, SQL, etc.\n",
    "- **Data visualization**: These packages help us to create and display graphical representations of data, such as charts, plots, or maps. They also enable customizing the appearance, style, and interactivity of the visualizations. The following key packages provide a variety of plots that are suitable for exploring and understanding data.\n",
    "  - *Matplotlib*: Leading Python plotting library to create and adapt figures, axes and other plot elements. It supports diverse plot types including bar, pie, scatter, histograms etc. We will employ Matplotlib for basic data visualization needs.\n",
    "  - *Seaborn*: High-level statistical data visualization build on Matplotlib. Seaborn Integrates well with Pandas offering enhanced, informative plots like heatmaps, boxplots etc. to represent data.\n",
    "- **Numerical optimization**: These packages help us to formulate and solve optimization problems, such as linear programming, integer programming, or nonlinear programming. They also provide tools for modeling, solving, and analyzing the results of the optimization problems. Some of the packages that we will use for this purpose are:\n",
    "  - *pyomo*: A Python-based open-source software for modeling and solving optimization problems. It supports a variety of problem types, such as linear, quadratic, nonlinear, mixed-integer, stochastic, and bilevel programming. It also supports a variety of solvers, such as GLPK, Gurobi, IBM Cplex, and more. We will model optimization problems in Pyomo leveraging its algebraic modeling capabilities.\n",
    "  - *glpk*: A free software for solving large-scale linear programming and mixed integer programming problems. It implements the simplex method, the interior-point method, and the branch-and-cut method. It also provides a standalone solver that can be called from the command line or from other programs. GLPK offers Python APIs to interface optimization problems.\n",
    "  - *gurobipy*: A Python interface for Gurobi, one of the leading commercial solvers that can handle various optimization problems, such as linear programming, mixed-integer programming, and quadratic programming. The GurobiPy package Provides Python binding to formulate and solve problems. We will use GurobiPy to integrate Gurobi with Pyomo.\n",
    "\n",
    "> *Note*: Commercial solvers like Gurobi usually have a free license installed by default for solving small-to-medium scale optimization problems. However, if you want to solve large-scale problems you need to obtain a Web License Service (WLS) license to work with Google Colab, which is free for academic purposes. For more info visit [this link](https://support.gurobi.com/hc/en-us/articles/4409582394769-Google-Colab-Installation-and-Licensing)."
   ]
  },
  {
   "cell_type": "markdown",
   "metadata": {},
   "source": [
    "To install the Python packages that we need for this course, we use the `!pip install` command in a code cell. This command will download and install the packages from the Python Package Index (PyPI), which is a repository of software for the Python programming language. \n",
    "\n",
    "First, create a new code cell and run the following command to install the NumPy package:"
   ]
  },
  {
   "cell_type": "code",
   "execution_count": null,
   "metadata": {},
   "outputs": [],
   "source": [
    "!pip install numpy"
   ]
  },
  {
   "cell_type": "markdown",
   "metadata": {},
   "source": [
    "This will display the output of the installation process, such as the version of the package, the dependencies, and the location of the files.\n",
    "\n",
    "We can also install multiple packages at once by separating them with spaces. For example, to install Pandas, Matplotlib, Seaborn, Pyomo, and GurobiPy, we can use the following command:"
   ]
  },
  {
   "cell_type": "code",
   "execution_count": null,
   "metadata": {},
   "outputs": [],
   "source": [
    "!pip install pandas matplotlib seaborn pyomo gurobipy"
   ]
  },
  {
   "cell_type": "markdown",
   "metadata": {},
   "source": [
    "Using the GLPK package instead of GurobiPy, require additional steps to install and configure. First, we need to install the `glpk-utils` and `libglpk-dev` packages, which provide dependencies required for the GLPK package. We use the `!apt install` command in a code cell to install system packages:"
   ]
  },
  {
   "cell_type": "code",
   "execution_count": null,
   "metadata": {},
   "outputs": [],
   "source": [
    "!apt install glpk-utils libglpk-dev"
   ]
  },
  {
   "cell_type": "markdown",
   "metadata": {},
   "source": [
    "Now, we can install the GLPK Python package by executing the following command:"
   ]
  },
  {
   "cell_type": "code",
   "execution_count": null,
   "metadata": {},
   "outputs": [],
   "source": [
    "!pip install glpk"
   ]
  },
  {
   "cell_type": "markdown",
   "metadata": {},
   "source": [
    "## Importing files\n",
    "\n",
    "You can connect to Google Drive from Google Colab so that you can use the files already stored or even store the result of your scripts. To use the files from Google Drive into Google Colab, you need to first mount your drive."
   ]
  },
  {
   "cell_type": "code",
   "execution_count": null,
   "metadata": {},
   "outputs": [],
   "source": [
    "from google.colab import drive  # Imports the drive module\n",
    "\n",
    "drive.mount(\"/content/drive\")"
   ]
  },
  {
   "cell_type": "markdown",
   "metadata": {},
   "source": [
    "An overlay will ask you to permit the notebook to access Google Drive files. You will need to click on \"Connect to Google Drive\" and follow the prompts to give access to your Google Drive.\n",
    "Once done, your files will be listed in the following directory: \"/content/drive/MyDrive\".\n",
    "\n",
    "> *Note*: You can also connect to Google Drive from Google Colab by clicking the *Files* icon on the left bar, and pressing the *Mount Drive* button on top of the file explorer panel.\n",
    "\n",
    "To upload files from your computer into Google Colab, you can right on a free space on the file explorer panel, and select *Upload*. You can also upload files by running the following command."
   ]
  },
  {
   "cell_type": "code",
   "execution_count": null,
   "metadata": {},
   "outputs": [],
   "source": [
    "from google.colab import files  # Imports the files module\n",
    "\n",
    "uploaded = files.upload()"
   ]
  },
  {
   "cell_type": "markdown",
   "metadata": {},
   "source": [
    "This will open a graphical user interface (GUI) where you can select the files you want to upload.\n",
    "Alternatively, if you have a URL of the file you want to upload, such as `https://example.com/data.csv`, you can run this code:"
   ]
  },
  {
   "cell_type": "code",
   "execution_count": null,
   "metadata": {},
   "outputs": [],
   "source": [
    "uploaded = files.upload(\"https://example.com/data.csv\")"
   ]
  },
  {
   "cell_type": "markdown",
   "metadata": {},
   "source": [
    "\n",
    "The `files.upload()` function returns a dictionary of the files which were uploaded.\n",
    "After uploading the file, it will be saved in the \"/content\" directory of your Google Colab notebook.\n",
    "\n",
    "For more information about loading and saving data from external sources, see [this link](https://colab.research.google.com/notebooks/io.ipynb)."
   ]
  },
  {
   "cell_type": "markdown",
   "metadata": {},
   "source": [
    "## Exporting files\n",
    "\n",
    "You can download files from the \"/content\" directory of your Colab notebook to your computer by running the following code:"
   ]
  },
  {
   "cell_type": "code",
   "execution_count": null,
   "metadata": {},
   "outputs": [],
   "source": [
    "from google.colab import files\n",
    "\n",
    "# To download the file named 'example.txt', use:\n",
    "files.download(\"example.txt\")"
   ]
  },
  {
   "cell_type": "markdown",
   "metadata": {},
   "source": [
    "This will prompt you to save the file to your local machine. You can choose the location and name of the file as you wish.\n",
    "You can also download a file by right-clicking on its name in the file explorer panel and choosing *Download*."
   ]
  },
  {
   "cell_type": "markdown",
   "metadata": {},
   "source": [
    "## Access and share your Colab notebooks\n",
    "\n",
    "Google Colab notebooks are stored in your Google Drive. You can access your Colab notebooks in Google Drive in several ways:\n",
    "\n",
    "- Through *File > Locate in Drive*: This option will open a new tab in your browser and show you the location of the current Google Colab file in your Google Drive. You can then navigate to other folders or files in your Google Drive, or perform actions such as renaming, moving, copying, or deleting the file.\n",
    "- Through *File > Save a copy in Drive*: This option will create a duplicate of the current Google Colab file and save it in your Google Drive. You can then choose a name and a location for the copy, or share it with others. This is useful if you want to keep a backup of your work, or work on different versions of the same file.\n",
    "- Through the file explorer panel: This panel is located on the left side of the Google Colab interface, and shows you the files and folders in your mounted Google Drive. You can expand or collapse the folders by clicking on the arrows, or double-click on a file to open it in a new tab. You can also right-click on a file or folder to access more options, such as downloading, uploading, creating, or deleting.\n",
    "\n",
    "Saving files in Google Drive has many benefits, such as:\n",
    "\n",
    "- Your files are accessible from any device with an internet connection when logged into your Google account. This enables opening or editing documents on the go from laptops, tablets, smartphones etc.\n",
    "- Any changes made to files are automatically synced across integrated devices. This allows seamless transition between gadgets without manually transferring updated versions.\n",
    "- You can efficiently share files with specific people and collaborate in real-time. Drive enables controlling viewer, editor privileges per user. It also maintains a detailed revision history of changes made by different collaborators."
   ]
  }
 ],
 "metadata": {
  "kernelspec": {
   "display_name": ".venv",
   "language": "python",
   "name": "python3"
  },
  "language_info": {
   "codemirror_mode": {
    "name": "ipython",
    "version": 3
   },
   "file_extension": ".py",
   "mimetype": "text/x-python",
   "name": "python",
   "nbconvert_exporter": "python",
   "pygments_lexer": "ipython3",
   "version": "3.11.6"
  }
 },
 "nbformat": 4,
 "nbformat_minor": 2
}
