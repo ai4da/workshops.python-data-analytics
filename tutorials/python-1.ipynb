{
 "cells": [
  {
   "cell_type": "markdown",
   "metadata": {},
   "source": [
    "# Part I: Welcome to Python!\n",
    "\n",
    "## Introduction\n",
    "Python is a powerful and versatile programming language that is known for its simplicity and readability. It is used in a wide range of fields, including web development, data analysis, scientific computing, machine learning, and education.\n",
    "\n",
    "### Highlights\n",
    "\n",
    "- Easy to learn: Python is known for its clear and concise syntax, making it easier to understand and write even for those without extensive programming experience.\n",
    "- Powerful libraries: Python has a vast collection of libraries and modules that extend its functionality, including those you'll use for optimization and data manipulation.\n",
    "- Interpreted language: Python runs the code line by line without compiling it first.\n",
    "- Free and open-source: Python is available for free under an open-source license, meaning it can be used and modified by anyone.\n",
    "\n",
    "### Key features\n",
    "\n",
    "- Dynamic typing: You do not need to declare variable types explicitly, which can make coding more flexible.\n",
    "- Object-oriented programming: Python supports OOP concepts like classes and objects, but it also allows procedural and functional programming styles.\n",
    "- Extensive standard library: Python comes with a rich collection of built-in modules and functions for common tasks, saving you time and effort.\n",
    "- Vast third-party ecosystem: There is a huge repository of additional libraries and modules available for Python, expanding its capabilities even further.\n",
    "- Cross-platform: Python code can run on different operating systems (Windows, macOS, Linux) without modifications.\n",
    "\n",
    "### Hello World!\n",
    "\n",
    "Here is an example of a simple Python program that prints “Hello, World!” to the screen:"
   ]
  },
  {
   "cell_type": "code",
   "execution_count": null,
   "metadata": {},
   "outputs": [],
   "source": [
    "# Your first Python program!\n",
    "print(\"Hello, World!\")"
   ]
  },
  {
   "cell_type": "markdown",
   "metadata": {},
   "source": [
    "Python also uses the built-in `print` function to display output, and `()` to enclose arguments. The text to be printed is enclosed within quotation marks (`\" \"`).\n",
    "\n",
    "As you can see, Python uses `#` to start a comment. Comments are used to add explanations or notes within the code. They are ignored by the Python interpreter, so they do not affect the program's execution.\n",
    "\n",
    "\n",
    "> *Note*: Python does not require semicolons `;` or curly braces `{}` to end statements or define blocks of code. Instead, Python uses indentation (usually four spaces) to create code blocks, such as loops, functions, and classes."
   ]
  },
  {
   "cell_type": "markdown",
   "metadata": {},
   "source": [
    "## Variables and data types\n",
    "\n",
    "A variable is a name that refers to a value stored in memory. You can think of them as labeled containers that hold data.\n",
    "You can use the assignment operator (`=`) create a variable and assign a value to it."
   ]
  },
  {
   "cell_type": "code",
   "execution_count": null,
   "metadata": {},
   "outputs": [],
   "source": [
    "name = \"Alice\"  # Assigns a string value to the variable `name`\n",
    "age = 30  # Assigns the value 30 to the variable `age`\n",
    "\n",
    "Name = \"ALICE\"  # Assigns a string value to the variable `Name`\n",
    "\n",
    "# Assigning a boolean value:\n",
    "is_student = True"
   ]
  },
  {
   "cell_type": "markdown",
   "metadata": {},
   "source": [
    "> *Note*: Python is case-sensitive, meaning that it distinguishes between uppercase and lowercase letters in variable names, function names, keywords, and other identifiers. For example, `name` and `Name` are two different variables in Python.\n",
    "\n",
    "It is a good practice to use descriptive names that reflect the data being stored. For example, `first_name` is better than `x` when you want to refer to the first name of a person."
   ]
  },
  {
   "cell_type": "markdown",
   "metadata": {},
   "source": [
    "Data types represent different kinds of data a variable can hold. Common data types in Python include:\n",
    "- Numbers:\n",
    "    - Integers (`int`): Whole numbers (e.g., 42, -10)\n",
    "    - Floats (`float`): Decimal numbers (e.g., 3.14, 1.5e-2)\n",
    "- Strings (`str`): Sequences of characters enclosed by single or double quotes (e.g., \"Hello\", 'Python')\n",
    "- Booleans (`bool`): Logical values (True or False)\n",
    "- Collections:\n",
    "    - Lists (`list`): Ordered collections of values\n",
    "    - Tuples (`tuple`): Immutable lists\n",
    "    - Sets (`set`): Unordered collections of unique values\n",
    "    - Dictionaries (`dict`): Associative collection of key-value pairs\n",
    "- None (`NoneType`): Represents the absence of a value or a null value.\n",
    "\n",
    "You can use the `type()` function to check the data type of a variable or a value:"
   ]
  },
  {
   "cell_type": "code",
   "execution_count": null,
   "metadata": {},
   "outputs": [],
   "source": [
    "print(type(name))  # This prints <class 'str'>, which means name is a string\n",
    "print(type(age))  # This prints <class 'int'>, which means age is an integer number\n",
    "print(type(is_student))  # This prints <class 'bool'>, which means is_student stores a boolean value\n",
    "\n",
    "print(type(1.23))  # This prints <class 'float'>, which means 1.23 is a floating-point number\n",
    "print(type(None))  # This prints <class 'NoneType'>"
   ]
  },
  {
   "cell_type": "markdown",
   "metadata": {},
   "source": [
    "### Operators and expressions\n",
    "\n",
    "Operators are special symbols that perform operations on values (operands). You can use operators to perform calculations and comparisons on data.\n",
    "\n",
    "There are three types of operators in Python:\n",
    "- Arithmetic operators: `+`, `-`, `*`, `/`, `%`, `**`\n",
    "- Comparison operators: `==`, `!=`, `>`, `<`, `>=`, `<=`\n",
    "- Logical operators: `and`, `or`, `not`"
   ]
  },
  {
   "cell_type": "markdown",
   "metadata": {},
   "source": [
    "#### Arithmetic operators: Performing calculations\n",
    "\n",
    "| Operator | Name | Example | Result |\n",
    "| --- | --- | --- | --- |\n",
    "| `+` | Addition | `10 + 5` | 15 |\n",
    "| `-` | Subtraction | `10 - 3` | 7 |\n",
    "| `*` | Multiplication | `4 * 6` | 24 |\n",
    "| `/` | Division | `15 / 2` | 7.5 |\n",
    "| `//` | Floor division | `15 // 2` | 7 |\n",
    "| `%` | Modulo | `17 % 4` | 1 |\n",
    "| `**` | Exponentiation | `2 ** 3` | 8 |\n",
    "\n",
    "The order of precedence of arithmetic operators in Python is as follows (in descending order):\n",
    "\n",
    "1. Parentheses `()`\n",
    "2. Exponentiation `**`\n",
    "3. Unary plus `+x`, Unary minus `-x`\n",
    "4. Multiplication `*`, Division `/`, Floor division `//`, Modulus `%`\n",
    "5. Addition `+`, Subtraction `-`\n",
    "\n",
    "Example:"
   ]
  },
  {
   "cell_type": "code",
   "execution_count": null,
   "metadata": {},
   "outputs": [],
   "source": [
    "print(10 - 4 * -2)  # Prints 18\n",
    "print((10 - 4) * -2)  # Prints -12"
   ]
  },
  {
   "cell_type": "markdown",
   "metadata": {},
   "source": [
    "> *Tip*: You can use a combination of the assignment operator and arithmetic operators to update variables:"
   ]
  },
  {
   "cell_type": "code",
   "execution_count": null,
   "metadata": {},
   "outputs": [],
   "source": [
    "my_number = 1.2\n",
    "\n",
    "my_number = my_number + 1.1\n",
    "print(my_number)  # prints 2.3\n",
    "\n",
    "my_number += 1.1  # adds 1.1 to my_number\n",
    "print(my_number)  # prints 3.4\n",
    "\n",
    "my_number *= 10  # multiplies my_number by 10\n",
    "print(my_number)  # prints 34.0"
   ]
  },
  {
   "cell_type": "markdown",
   "metadata": {},
   "source": [
    "\n",
    "#### Comparison operators: Comparing values\n",
    "\n",
    "| Operator | Name | Example | Result |\n",
    "| --- | --- | --- | --- |\n",
    "| `==` | Equal to | `10 == 5` | `False` |\n",
    "| `!=` | Not equal to | `10 != 5` | `True` |\n",
    "| `>` | Greater than | `10 > 5` | `True` |\n",
    "| `<` | Less than | `10 < 5` | `False` |\n",
    "| `>=` | Greater than or equal to | `5 >= 10` | `False` |\n",
    "| `<=` | Less than or equal to | `5 <= 5` | `True` |\n",
    "\n",
    "#### Logical operators: Combining conditions\n",
    "\n",
    "Used to combine multiple conditions and make decisions in code.\n",
    "\n",
    "| Operator | Name | Example | Result |\n",
    "| --- | --- | --- | --- |\n",
    "| `and` | And | `True and False` | `False` |\n",
    "| `or` | Or | `True or False` | `True` |\n",
    "| `not` | Not | `not True` | `False` |\n",
    "\n",
    "Example:"
   ]
  },
  {
   "cell_type": "code",
   "execution_count": null,
   "metadata": {},
   "outputs": [],
   "source": [
    "condition = 2 > 0 and 2 < 10  # Evaluates to True\n",
    "print(condition)  # Prints True\n",
    "print(0 < 2 < 10)  # Prints True\n",
    "print((2 > 0 and 2 < 10) == (0 < 2 < 10))  # Prints True. Note the parentheses."
   ]
  },
  {
   "cell_type": "markdown",
   "metadata": {},
   "source": [
    "## Strings: Working with text\n",
    "\n",
    "String values are created by typing the characters between the single or double quotes."
   ]
  },
  {
   "cell_type": "code",
   "execution_count": null,
   "metadata": {},
   "outputs": [],
   "source": [
    "# This creates a string with the value Hi! and assigns it to the variable `greeting`:\n",
    "greeting = \"Hello\"\n",
    "\n",
    "# Using the `\"` character within a string:\n",
    "# Option 1: use single and double quotes\n",
    "quote = 'Albert Einstein said, \"Learn from yesterday, live for today, hope for tomorrow.\"'\n",
    "print(quote)\n",
    "\n",
    "# Option 2: use escape character \\\n",
    "quote = 'She said, \"I love Python!\"'  # assigns a new value to the variable `quote`\n",
    "print(quote)\n",
    "\n",
    "# You can also use triple quotes (\"\"\" or ''') to create a multi-line string,\n",
    "# which can span multiple lines without escaping\n",
    "poem = \"\"\"Roses are red\n",
    "Violets are blue\n",
    "Python is awesome\n",
    "And so are you\"\"\"\n",
    "\n",
    "print(poem)\n",
    "\n",
    "# It is also possible to use \\n to create a new line in the string\n",
    "poem = \"Roses are red\\nViolets are blue\\nPython is awesome\\nAnd so are you\"\n",
    "print(poem)"
   ]
  },
  {
   "cell_type": "markdown",
   "metadata": {},
   "source": [
    "### String operations and formatting\n",
    "\n",
    "You can use the `+` operator to concatenate (join) two or more strings and the `*` operator to repeat a string a certain number of times.\n",
    "\n",
    "| Operation | Name | Example | Result |\n",
    "| --- | --- | --- | --- |\n",
    "| `+` | Concatenation | `greeting + \" \" + name` | `\"Hello Alice\"` |\n",
    "| `*` | Repetition | `greeting * 3` | `\"HelloHelloHello\"` |"
   ]
  },
  {
   "cell_type": "code",
   "execution_count": null,
   "metadata": {},
   "outputs": [],
   "source": [
    "cheer = name + \" is\" + \".\" * 5 + \"awesome!\"\n",
    "print(cheer)"
   ]
  },
  {
   "cell_type": "markdown",
   "metadata": {},
   "source": [
    "#### Formatting strings: Combining strings and variables\n",
    "\n",
    "Python uses the `format()` function to insert variables into strings:"
   ]
  },
  {
   "cell_type": "code",
   "execution_count": null,
   "metadata": {},
   "outputs": [],
   "source": [
    "print(\"My name is {} and I am {} years old.\".format(name, age))\n",
    "\n",
    "# You can name the placeholders if you want:\n",
    "print(\"My name is {n} and I am {a} years old.\".format(n=name, a=age))\n",
    "\n",
    "# It is also possible to use numbers to specify the order of the variables:\n",
    "print(\"My name is {0} and I am {1} years old.\".format(name, age))\n",
    "print(\"I am {1} years old and my name is {0}.\".format(name, age))\n",
    "print(\"My name is {0}. Yes, I am {0}!\".format(name))"
   ]
  },
  {
   "cell_type": "markdown",
   "metadata": {},
   "source": [
    "f-strings provide a concise and readable way to embed expressions within strings. You can also use f-strings to create formatted strings by using the `f` or `F` prefix and curly braces. "
   ]
  },
  {
   "cell_type": "code",
   "execution_count": null,
   "metadata": {},
   "outputs": [],
   "source": [
    "f_formatted_name = f\"My name is {name}.\"  # uses the value of the variable `name` directly\n",
    "print(f_formatted_name)"
   ]
  },
  {
   "cell_type": "markdown",
   "metadata": {},
   "source": [
    "##### Formatting numbers within strings:\n",
    "\n",
    "Above, we used the `{}` placeholder and the `format()` method to insert values into a string. Here, we explain how to use various options to control the alignment, width, precision, and type of the numbers.\n",
    "Some common options are:\n",
    "\n",
    "| Option | Description |\n",
    "| --- | --- |\n",
    "| `.` | Specify the number of digits after the decimal |\n",
    "| `,` | Add a comma as a thousand separator |\n",
    "| `+` | Add a plus sign to positive numbers |\n",
    "| `e` or `E` | Use scientific notation |\n",
    "| `f` or `F` | Use fixed point notation |\n",
    "\n",
    "For example:"
   ]
  },
  {
   "cell_type": "code",
   "execution_count": null,
   "metadata": {},
   "outputs": [],
   "source": [
    "my_number = 123.456789\n",
    "\n",
    "# Print my_number up to three decimal places:\n",
    "print(\"The number is approximately {:.3f}.\".format(my_number))\n",
    "# Print my_number in scientific notation:\n",
    "print(\"The number is approximately {:.2e}.\".format(my_number))\n",
    "\n",
    "new_number = my_number * 1000\n",
    "# round the new number to the nearest integer:\n",
    "print(f\"The new number is approximately {new_number:.0f}.\")\n",
    "# add thousands separators\n",
    "print(f\"The new number is approximately {new_number:,.1f}.\")\n",
    "\n",
    "new_number = my_number / 1000\n",
    "# convert my_number to a percentage:\n",
    "print(f\"The number is approximately {new_number:.1%}.\")\n",
    "# convert my_number to a percentage and add a plus sign:\n",
    "print(f\"The number is approximately {new_number:+.1%}.\")"
   ]
  },
  {
   "cell_type": "markdown",
   "metadata": {},
   "source": [
    "## Collections: Organizing data with lists, tuples, sets, and dictionaries\n",
    "\n",
    "### Lists: Ordered collections of values\n",
    "\n",
    "Think of a shopping list: a sequence of items in a specific order. Python lists work similarly, holding multiple values of any type, from numbers and strings to objects and even other lists!\n",
    "You can create a list by using square brackets `[]` and separating the values by commas:"
   ]
  },
  {
   "cell_type": "code",
   "execution_count": null,
   "metadata": {},
   "outputs": [],
   "source": [
    "# This creates a list with four values and assigns it to the variable `fruits`:\n",
    "fruits = [\"apples\", \"oranges\", \"bananas\", \"grapes\"]\n",
    "\n",
    "# Create more lists:\n",
    "numbers = [1, -1, 1]\n",
    "mixed_data = [\"apple\", 3.14, True]  # Values can be of different types\n",
    "list_of_lists = [[1, -1, 1], [4, 5, 6]]  # Lists can contain other lists\n",
    "empty_list = []\n",
    "\n",
    "# Display the list variables:\n",
    "print(fruits)\n",
    "print(list_of_lists)"
   ]
  },
  {
   "cell_type": "markdown",
   "metadata": {},
   "source": [
    "#### List operations\n",
    "\n",
    "You can use `+`, `*`, and `in` to perform basic list operations:\n",
    "\n",
    "| Operation | Description | Example | Result |\n",
    "| --- | --- | --- | --- |\n",
    "| `+` | Concatenate two lists | `[1, 2] + [3, 4]` | `[1, 2, 3, 4]` |\n",
    "| `*` | Repeat a list | `[1, 2] * 3` | `[1, 2, 1, 2, 1, 2]` |\n",
    "| `in` | Check if a value is in a list | `1 in [1, 2, 3]` | `True` |\n",
    "\n",
    "Example:"
   ]
  },
  {
   "cell_type": "code",
   "execution_count": null,
   "metadata": {},
   "outputs": [],
   "source": [
    "print([1] * 3 + [2])  # Prints [1, 1, 1, 2]\n",
    "print(\"tomatoes\" in fruits)  # Prints False\n",
    "print(not (\"tomatoes\" in fruits))  # Prints True\n",
    "print(\"tomatoes\" not in fruits)  # Same as above but more Pythonic"
   ]
  },
  {
   "cell_type": "markdown",
   "metadata": {},
   "source": [
    "#### Indexing: Accessing individual characters \n",
    "\n",
    "You can use the `[]` operator to access a specific character or a slice (subsequence) of a sequence by its index (position).\n",
    "The index starts from 0 for the first character and goes up to the length of the string minus 1 for the last character. You can also use negative indices to access characters from the end of the string, starting from -1 for the last character."
   ]
  },
  {
   "cell_type": "code",
   "execution_count": null,
   "metadata": {},
   "outputs": [],
   "source": [
    "first_fruit = fruits[0]  # Accessing the first element of the list `fruits`\n",
    "print(first_fruit)  # Prints \"apples\"\n",
    "\n",
    "last_fruit = fruits[-1]  # Accessing the last element of the list `fruits`\n",
    "print(last_fruit)  # Prints \"grapes\""
   ]
  },
  {
   "cell_type": "markdown",
   "metadata": {},
   "source": [
    "You may use the `len()` function to get the length of a sequence (string, list, tuple, etc.):"
   ]
  },
  {
   "cell_type": "code",
   "execution_count": null,
   "metadata": {},
   "outputs": [],
   "source": [
    "num_fruits = len(fruits)  # Finding the length of the list `fruits`\n",
    "print(num_fruits)  # Prints 4\n",
    "\n",
    "last_fruit = fruits[num_fruits - 1]  # Indexing from the end of the string\n",
    "print(last_fruit)  # Prints \"grapes\""
   ]
  },
  {
   "cell_type": "markdown",
   "metadata": {},
   "source": [
    "#### Slicing: Extracting subsequences:\n",
    "\n",
    "You can use the `:` operator to slice (extract) a subsequence from a sequence. The first number is the starting index, and the second number is the ending index (exclusive)."
   ]
  },
  {
   "cell_type": "code",
   "execution_count": null,
   "metadata": {},
   "outputs": [],
   "source": [
    "first_three_fruits = fruits[0:3]\n",
    "print(first_three_fruits)  # Prints [\"apples\", \"oranges\", \"bananas\"]\n",
    "\n",
    "last_two_fruits = fruits[-2:num_fruits]\n",
    "print(last_two_fruits)  # Prints [\"bananas\", \"grapes\"]\n",
    "\n",
    "# The first number can be omitted if it is 0\n",
    "first_three_fruits = fruits[:3]\n",
    "print(first_three_fruits)  # Prints [\"apples\", \"oranges\", \"bananas\"]\n",
    "\n",
    "# The second number can be omitted if it is the length of the sequence\n",
    "last_two_fruits = fruits[-2:]\n",
    "print(last_two_fruits)  # Prints [\"bananas\", \"grapes\"]"
   ]
  },
  {
   "cell_type": "markdown",
   "metadata": {},
   "source": [
    "#### Updating lists\n",
    "\n",
    "You can modify the value of an element in a list by using the `[]` operator:"
   ]
  },
  {
   "cell_type": "code",
   "execution_count": null,
   "metadata": {},
   "outputs": [],
   "source": [
    "fruits[1] = \"pears\"  # This replaces the second element of the list `fruits` with \"pears\"\n",
    "print(fruits)  # Prints [\"apples\", \"pears\", \"bananas\", \"grapes\"]"
   ]
  },
  {
   "cell_type": "markdown",
   "metadata": {},
   "source": [
    "Some common list methods are:\n",
    "\n",
    "| Method | Description | \n",
    "| --- | --- | \n",
    "| `append()` | Add an element to the end of the list |\n",
    "| `extend()` | Add multiple elements to the end of the list | \n",
    "| `insert()` | Insert an element at a specific index | \n",
    "| `remove()` | Remove the first occurrence of an element from the list | \n",
    "| `pop()` | Remove and return an element at a specific index | \n",
    "| `clear()` | Remove all elements from the list | \n",
    "| `index()` | Find the index of the first occurrence of an element in the list | \n",
    "| `count()` | Count the number of occurrences of an element in the list | \n",
    "| `sort()` | Sort the list in ascending order | \n",
    "| `sort(reverse=True)` | Sort the list in descending order |\n",
    "| `reverse()` | Reverse the order of the list | \n",
    "\n",
    "Example:"
   ]
  },
  {
   "cell_type": "code",
   "execution_count": null,
   "metadata": {},
   "outputs": [],
   "source": [
    "print(numbers)  # Prints [1, -1, 1]\n",
    "\n",
    "numbers.append(0)  # Appends the number 0 to the end of the list `numbers`\n",
    "print(numbers)  # Prints [1, -1, 1, 0]\n",
    "\n",
    "numbers.extend([1, 2])  # Appends the list [1, 2] to the end of the list `numbers`\n",
    "print(numbers)  # Prints [1, -1, 1, 0, 1, 2]\n",
    "\n",
    "# You can also append a list to another list using the `+` operator:\n",
    "numbers = numbers + [3, 4]\n",
    "print(numbers)  # Prints [1, -1, 1, 0, 1, 2, 3, 4]\n",
    "\n",
    "numbers.insert(1, 5)  # Inserts the number 5 at index 1\n",
    "print(numbers)  # Prints [1, 5, -1, 1, 0, 1, 2, 3, 4]\n",
    "\n",
    "numbers.remove(1)  # Removes the first occurrence of the number 1\n",
    "print(numbers)  # Prints [5, -1, 1, 0, 1, 2, 3, 4]\n",
    "\n",
    "# *Tip*: you can use `del` to remove an element at a specific index:\n",
    "del numbers[-2]  # Removes the second-to-last element\n",
    "print(numbers)  # Prints [5, -1, 1, 0, 1, 2, 4]\n",
    "\n",
    "num = numbers.pop(0)  # Removes the number at index 0\n",
    "print(num)  # Prints 5\n",
    "print(numbers)  # Prints [-1, 1, 0, 1, 2, 4]\n",
    "\n",
    "# You can also remove the last element of a list using the `pop` method with no index:\n",
    "num = numbers.pop()\n",
    "print(num)  # Prints 4\n",
    "print(numbers)  # Prints [-1, 1, 0, 1, 2]\n",
    "\n",
    "print(numbers.index(1))  # Prints 1, i.e., the index of the first occurrence of the number 1\n",
    "\n",
    "print(numbers.count(1))  # Prints 2, i.e., the number of occurrences of the number 1"
   ]
  },
  {
   "cell_type": "code",
   "execution_count": null,
   "metadata": {},
   "outputs": [],
   "source": [
    "print(numbers)  # Prints [-1, 1, 0, 1, 2]\n",
    "\n",
    "numbers.sort()  # Sorts the list in ascending order\n",
    "print(numbers)  # Prints [-1, 0, 1, 1, 2]\n",
    "\n",
    "numbers.reverse()  # Reverses the list\n",
    "print(numbers)  # Prints [2, 1, 1, 0, -1]\n",
    "\n",
    "# Sorts the list in descending order (reversed sort):\n",
    "numbers.sort(reverse=True)\n",
    "print(numbers)  # Prints [2, 1, 1, 0, -1]\n",
    "\n",
    "numbers.clear()  # Removes all elements from the list\n",
    "print(numbers)  # Prints []"
   ]
  },
  {
   "cell_type": "markdown",
   "metadata": {},
   "source": [
    "### Tuples: Immutable lists\n",
    "\n",
    "Tuples are similar to lists, except that they are immutable, meaning that they cannot be changed once created. You can think of them as read-only lists. Tuples are useful for storing data that should not be modified, such as coordinates, dates, or constants.\n",
    "\n",
    "You can create a tuple by using parentheses `()` and separating the values by commas:"
   ]
  },
  {
   "cell_type": "code",
   "execution_count": null,
   "metadata": {},
   "outputs": [],
   "source": [
    "# This creates a tuple with three values and assigns it to the variable `point`:\n",
    "point = (1, 2, 3)\n",
    "\n",
    "# Create more tuples:\n",
    "date = (2024, 1, 7)  # year, month, day\n",
    "constants = (3.14, 2.718, 1.618, 9.8)  # some mathematical constants\n",
    "mixed_values = (1, 2.0, \"three\", False)  # values can be of different types\n",
    "tuple_of_tuples = ((1, 2), (3, 4))  # tuples can be nested\n",
    "empty_tuple = ()"
   ]
  },
  {
   "cell_type": "markdown",
   "metadata": {},
   "source": [
    "> *Note*: You can also create a tuple without using parentheses, by just separating the values by commas:"
   ]
  },
  {
   "cell_type": "code",
   "execution_count": null,
   "metadata": {},
   "outputs": [],
   "source": [
    "colors = \"red\", \"green\", \"blue\"\n",
    "print(type(colors))  # Prints <class 'tuple'>"
   ]
  },
  {
   "cell_type": "markdown",
   "metadata": {},
   "source": [
    "#### Tuple operations and methods\n",
    "\n",
    "Similar to lists, you can access the elements of a tuple by using the `[]` operator, just like lists:"
   ]
  },
  {
   "cell_type": "code",
   "execution_count": null,
   "metadata": {},
   "outputs": [],
   "source": [
    "print(point[0])  # Prints 1\n",
    "print(constants[1:3])  # Prints (2.718, 1.618)\n",
    "print(tuple_of_tuples[-1])  # Prints (3, 4)\n",
    "print(tuple_of_tuples[-1][0])  # Prints 3"
   ]
  },
  {
   "cell_type": "markdown",
   "metadata": {},
   "source": [
    "However, you cannot change the elements of a tuple:"
   ]
  },
  {
   "cell_type": "code",
   "execution_count": null,
   "metadata": {},
   "outputs": [],
   "source": [
    "# Uncomment the line below to see an error:\n",
    "# point[0] = 4  # This will raise a TypeError, as tuples are immutable"
   ]
  },
  {
   "cell_type": "markdown",
   "metadata": {},
   "source": [
    "Some common operations on tuples are:\n",
    "\n",
    "| Operator | Description | Example | Result |\n",
    "| -------- | ----------- | -------- | -------|\n",
    "| `+`      | Concatenation | `(1, 2) + (3, 4)` | `(1, 2, 3, 4)`\n",
    "| `*`      | Repetition | `(1, 2) * 3` | `(1, 2, 1, 2, 1, 2)`\n",
    "| `in`     | Membership test | `3 in (1, 2, 3)` | `True`"
   ]
  },
  {
   "cell_type": "code",
   "execution_count": null,
   "metadata": {},
   "outputs": [],
   "source": [
    "my_tuple = (1, 2) * 2 + (3,)  # Creates a tuple with values (1, 2, 1, 2, 3)\n",
    "print(3 not in my_tuple)  # Prints False"
   ]
  },
  {
   "cell_type": "markdown",
   "metadata": {},
   "source": [
    "Some useful tuple methods are:\n",
    "\n",
    "| Method | Description | Example | Result |\n",
    "| ------ | ----------- | -------- | -------|\n",
    "| `count()` | Count the number of occurrences of a value | `(1, 2, 3, 4).count(3)` | 1\n",
    "| `index()` | Find the index of the first occurrence of a value | `(1, 2, 3, 4).index(3)` | 2"
   ]
  },
  {
   "cell_type": "markdown",
   "metadata": {},
   "source": [
    "#### Unpacking tuples\n",
    "\n",
    "Tuple unpacking allows you to assign values from a tuple to multiple variables. You can also unpack a tuple into separate variables by using the `=` operator:"
   ]
  },
  {
   "cell_type": "code",
   "execution_count": null,
   "metadata": {},
   "outputs": [],
   "source": [
    "x, y, z = point\n",
    "\n",
    "print(f\"x = {x}, y = {y}, z = {z}\")  # Prints \"x = 1, y = 2, z = 3\""
   ]
  },
  {
   "cell_type": "markdown",
   "metadata": {},
   "source": [
    "> *Note*: When unpacking a tuple, make sure that the number of variables and the number of elements in the tuple match:"
   ]
  },
  {
   "cell_type": "code",
   "execution_count": null,
   "metadata": {},
   "outputs": [],
   "source": [
    "print(len(point))  # Prints 3\n",
    "\n",
    "# Uncomment the line below to see an error:\n",
    "# x, y = point  # This will raise a ValueError, as `point` contains 3 values\n",
    "\n",
    "# When unpacking a tuple, you can use the _ symbol to assign a value that you don't need or care about.\n",
    "x, _, z = point\n",
    "print(f\"x = {x}, z = {z}\")  # Prints \"x = 1, z = 3\""
   ]
  },
  {
   "cell_type": "markdown",
   "metadata": {},
   "source": [
    "The `_` symbol is not a special keyword in Python, but just a regular variable name. However, it is a good practice to use it when you want to make your code more readable and clear that you are not using some values."
   ]
  },
  {
   "cell_type": "markdown",
   "metadata": {},
   "source": [
    "### Sets: Unordered collections of unique elements\n",
    "\n",
    "Sets are similar to lists and tuples, except that they are unordered and do not allow duplicate elements. Sets are useful for storing and performing operations on data that involve membership testing, removing duplicates, or mathematical operations like union, intersection, and difference.\n",
    "\n",
    "You can create a set by using curly braces `{}` and separating the elements by commas, or by using the built-in `set()` function with an iterable argument. For example:"
   ]
  },
  {
   "cell_type": "code",
   "execution_count": null,
   "metadata": {},
   "outputs": [],
   "source": [
    "# Creating a set with curly braces\n",
    "colors = {\"red\", \"green\", \"blue\"}\n",
    "\n",
    "# Creating a set with the set() function\n",
    "fruits = set([\"apple\", \"banana\", \"orange\"])\n",
    "\n",
    "# Creating an empty set\n",
    "empty_set = set()\n",
    "# *None*: You cannot create an empty set with curly braces,\n",
    "#         as {} is used for creating an empty dictionary.\n",
    "#         Dictionaries are covered in the next section.\n",
    "\n",
    "print(colors)  # Prints {\"red\", \"green\", \"blue\"}"
   ]
  },
  {
   "cell_type": "markdown",
   "metadata": {},
   "source": [
    "You can access the elements of a set by using a for loop, or by using the `in` or `not in` operators to check if an element is present or not. You cannot access the elements of a set by using an index, as sets are unordered and do not have indices."
   ]
  },
  {
   "cell_type": "markdown",
   "metadata": {},
   "source": [
    "#### Set operations and methods\n",
    "\n",
    "Some common operations on sets are:\n",
    "\n",
    "| Operator | Description | Example | Result |\n",
    "| -------- | ----------- | -------- | -------|\n",
    "| `\\|`     | Union | `{1, 2, 3} \\| {3, 4, 5}` | `{1, 2, 3, 4, 5}`\n",
    "| `&`      | Intersection | `{1, 2, 3} & {3, 4, 5}` | `{3}`\n",
    "| `-`      | Difference | `{1, 2, 3} - {3, 4, 5}` | `{1, 2}`\n",
    "| `^`      | Symmetric difference | `{1, 2, 3} ^ {3, 4, 5}` | `{1, 2, 4, 5}`\n",
    "| `in`     | Check if a value is in a set | `3 in {1, 2, 3}` | `True`\n",
    "| `==`     | Check if two sets are equal | `{1, 2, 3} == {1, 2, 3, 4}` | `False`\n",
    "| `<=`     | Check if a set is a subset of another set | `{1, 2} <= {1, 2}` | `True`\n",
    "| `>=`     | Check if a set is a superset of another set | `{1, 2, 3, 4} >= {1, 2}` | `True`\n",
    "| `<`      | Check if a set is a strict subset of another set | `{1, 2} < {1, 2}` | `False`\n",
    "| `>`      | Check if a set is a strict superset of another set | `{1, 2, 3, 4} > {1, 2}` | `True`\n",
    "\n",
    "You can also use the corresponding methods for some of these operations:\n",
    "\n",
    "| Method | Description | Example | Result |\n",
    "| ------ | ----------- | -------- | -------|\n",
    "| `union()` | Return the union of two sets | `{1, 2, 3}.union({3, 4, 5})` | `{1, 2, 3, 4, 5}`\n",
    "| `intersection()` | Return the intersection of two sets | `{1, 2, 3}.intersection({3, 4, 5})` | `{3}`\n",
    "| `difference()` | Return the difference of two sets | `{1, 2, 3}.difference({3, 4, 5})` | `{1, 2}`\n",
    "| `symmetric_difference()` | Return the symmetric difference of two sets | `{1, 2, 3}.symmetric_difference({3, 4, 5})` | `{1, 2, 4, 5}`\n",
    "| `isequal()` | Check if two sets are equal | `{1, 2, 3}.isequal({1, 2, 3})` | `True` \n",
    "| `issubset()` | Check if a set is a subset of another set | `{1, 2}.issubset({1, 2, 3})` | `True`\n",
    "| `issuperset()` | Check if a set is a superset of another set | `{1, 2}.issuperset({1, 2, 3})` | `False`\n",
    "| `isdisjoint()` | Check if two sets are disjoint | `{1, 2, 3}.isdisjoint({3, 4, 5})` | `False`\n",
    "\n",
    "\n",
    "To update a set or get an element from a set use the following methods:\n",
    "\n",
    "| Method | Description | Example | Result |\n",
    "| ------ | ----------- | -------- | -------|\n",
    "| `add()` | Add an element to a set | `{1, 2, 3}.add(4)` | `{1, 2, 3, 4}`\n",
    "| `remove()` | Remove an existing element from a set | `{1, 2, 3}.remove(2)` | `{1, 3}`\n",
    "| `discard()` | Remove an element from a set | `{1, 2, 3}.discard(2)` | `{1, 3}`\n",
    "| `update()` | Add multiple elements to a set | `{1, 2, 3}.update({3, 4, 5})` | `{1, 2, 3, 4, 5}`\n",
    "| `pop()` | Remove and return an arbitrary element from a set | `{1, 2, 3}.pop()` | `{2, 3}`\n",
    "| `clear()` | Remove all elements from a set | `{1, 2, 3}.clear()` | `{}`\n",
    "\n",
    "> *Note*: If you try to remove an element that is not in the set, you will get a `KeyError`. To avoid this, you can use the `discard()` method instead of the `remove()` method, which does not raise an error if the element is not found.\n"
   ]
  },
  {
   "cell_type": "code",
   "execution_count": null,
   "metadata": {},
   "outputs": [],
   "source": [
    "my_set = {1, 2, 3}\n",
    "my_set.remove(3)\n",
    "my_set.add(4)\n",
    "my_set.update([4, 5])\n",
    "element = my_set.pop()\n",
    "\n",
    "print(len(my_set))  # Prints 3. A set does not contain duplicate elements.\n",
    "print(element not in my_set)  # Prints True\n",
    "print(element, my_set)  # You can pass multiple arguments to the `print` function"
   ]
  },
  {
   "cell_type": "markdown",
   "metadata": {},
   "source": [
    "### Dictionaries: Mapping keys to values with\n",
    "\n",
    "A dictionary is a collection of key-value pairs, where each key is associated with a value. A dictionary is created by enclosing the key-value pairs in curly braces `{}`, separated by commas. For example:"
   ]
  },
  {
   "cell_type": "code",
   "execution_count": null,
   "metadata": {},
   "outputs": [],
   "source": [
    "# A dictionary of fruits and their prices\n",
    "fruits = {\"apple\": 1.99, \"banana\": 0.79, \"orange\": 2.49}\n",
    "\n",
    "empty_dict = {}  # Creating an empty dictionary\n",
    "\n",
    "print(fruits, \"is a\", type(fruits))"
   ]
  },
  {
   "cell_type": "markdown",
   "metadata": {},
   "source": [
    "The keys of a dictionary can be any immutable data type, such as numbers, strings, booleans, or tuples. The values of a dictionary can be any data type, including other collections. For example:"
   ]
  },
  {
   "cell_type": "code",
   "execution_count": null,
   "metadata": {},
   "outputs": [],
   "source": [
    "# A dictionary of students and their grades\n",
    "students = {\"Alice\": [90, 85, 95], \"Bob\": [80, 75, 70], \"Charlie\": [100, 100, 90]}"
   ]
  },
  {
   "cell_type": "markdown",
   "metadata": {},
   "source": [
    "#### Dictionary operations and methods\n",
    "\n",
    "To access the value of a specific key in a dictionary, we use square brackets `[]` and the key name. For example:"
   ]
  },
  {
   "cell_type": "code",
   "execution_count": null,
   "metadata": {},
   "outputs": [],
   "source": [
    "# Access the price of an apple\n",
    "print(fruits[\"apple\"])  # Output: 1.99"
   ]
  },
  {
   "cell_type": "markdown",
   "metadata": {},
   "source": [
    "To update the value of an existing key in a dictionary, we use the assignment operator `=` and the existing key name.\n",
    "To add a new key-value pair to a dictionary, we use the assignment operator `=` and the new key name. For example:"
   ]
  },
  {
   "cell_type": "code",
   "execution_count": null,
   "metadata": {},
   "outputs": [],
   "source": [
    "# Update the price of a banana\n",
    "fruits[\"banana\"] = 0.89\n",
    "print(fruits)  # Prints {\"apple\": 1.99, \"banana\": 0.89, \"orange\": 2.49}\n",
    "\n",
    "# Add a new fruit and its price\n",
    "fruits[\"mango\"] = 1.29\n",
    "print(fruits)  # Prints {\"apple\": 1.99, \"banana\": 0.89, \"orange\": 2.49, \"mango\": 1.29}"
   ]
  },
  {
   "cell_type": "markdown",
   "metadata": {},
   "source": [
    "To delete a key-value pair from a dictionary, we use the `del` keyword and the key name. For example:"
   ]
  },
  {
   "cell_type": "code",
   "execution_count": null,
   "metadata": {},
   "outputs": [],
   "source": [
    "# Delete the orange from the dictionary\n",
    "del fruits[\"orange\"]\n",
    "print(fruits)  # Prints {\"apple\": 1.99, \"banana\": 0.89, \"mango\": 1.29}"
   ]
  },
  {
   "cell_type": "markdown",
   "metadata": {},
   "source": [
    "To check if a key exists in a dictionary, we use the `in` operator, which returns `True` or `False`. For example:"
   ]
  },
  {
   "cell_type": "code",
   "execution_count": null,
   "metadata": {},
   "outputs": [],
   "source": [
    "print(\"apple\" in fruits)  # Prints True\n",
    "print(\"orange\" not in fruits)  # Prints True"
   ]
  },
  {
   "cell_type": "markdown",
   "metadata": {},
   "source": [
    "Some useful dictionary methods are:\n",
    "\n",
    "| Method | Description |\n",
    "| ------ | ----------- |\n",
    "| `get(key, default)` | Get the value of the key if it exists, otherwise the default value |\n",
    "| `pop(key, default)` | Remove and return the value of the key if it exists, otherwise the default value |\n",
    "| `update(dict)` | Update the dictionary with the key-value pairs from the given dictionary |\n",
    "| `keys()` | Get the keys in the dictionary |\n",
    "| `values()` | Get the values in the dictionary |\n",
    "| `items()` | Get the key-value tuples in the dictionary |\n",
    "| `copy()` | Create a copy of the dictionary |\n",
    "| `clear()` | Remove all elements from the dictionary |\n",
    "\n",
    "> *Notes*:\n",
    "> - If you use the `[]` operator to access a key that is not in the dictionary, you will get a `KeyError`. To avoid this, you can use the `get()` method, which returns the default value if the key is not found.\n",
    "> - The default value in `get()` and `pop()` methods is `None`, if not specified.\n",
    "> - When updating a dictionary, you can pass a dictionary as an argument to the `update()` method. If the key is already in the dictionary, the value will be updated. If the key is not in the dictionary, it will be added.\n",
    "\n",
    "Example:"
   ]
  },
  {
   "cell_type": "code",
   "execution_count": null,
   "metadata": {},
   "outputs": [],
   "source": [
    "print(type(fruits.keys()))  # Prints <class 'dict_keys'>\n",
    "print(list(fruits.keys()))  # Prints [\"apple\", \"banana\", \"mango\"]\n",
    "print(list(fruits.values()))  # Prints [1.99, 0.89, 1.29]\n",
    "print(list(fruits.items()))  # Prints [(\"apple\", 1.99), (\"banana\", 0.89), (\"mango\", 1.29)]\n",
    "print(2.49 in fruits.values())  # Prints False\n",
    "\n",
    "print(fruits.get(\"apple\"))  # Similar to fruits[\"apple\"] since \"apple\" is in the dictionary\n",
    "print(fruits.get(\"orange\"))  # Prints None since \"orange\" is not in the dictionary\n",
    "print(fruits.get(\"orange\", 0.0))  # Prints 0.0\n",
    "\n",
    "more_fruits = {\"orange\": 2.49, \"pineapple\": 3.99, \"mango\": 1.49}\n",
    "fruits.update(more_fruits)\n",
    "print(fruits)  # Prints the updated dictionary. Note that the price of mango is now 1.49\n",
    "\n",
    "apple_price = fruits.pop(\"apple\")\n",
    "print(apple_price)  # Prints 1.99\n",
    "print(fruits)  # Prints {\"banana\": 0.89, \"mango\": 1.49, \"orange\": 2.49, \"pineapple\": 3.99}\n",
    "\n",
    "fruits.clear()  # Clear the dictionary of all elements\n",
    "apple_price = fruits.pop(\"mango\", -1.0)  # Returns -1.0 since \"mango\" is no longer in the dictionary\n",
    "print(apple_price)  # Prints -1.0"
   ]
  },
  {
   "cell_type": "markdown",
   "metadata": {},
   "source": [
    "To get the number of key-value pairs in a dictionary, we use the `len()` function:"
   ]
  },
  {
   "cell_type": "code",
   "execution_count": null,
   "metadata": {},
   "outputs": [],
   "source": [
    "print(len(fruits))  # Prints 3"
   ]
  },
  {
   "cell_type": "markdown",
   "metadata": {},
   "source": [
    "If you have a collection of keys with the same value, you can use the `fromkeys()` function to create a dictionary from the keys and a given value:"
   ]
  },
  {
   "cell_type": "code",
   "execution_count": null,
   "metadata": {},
   "outputs": [],
   "source": [
    "names = [\"Alice\", \"Bob\", \"Charlie\"]\n",
    "salary = 45_000\n",
    "\n",
    "clients = dict.fromkeys(names, salary)\n",
    "print(clients)  # Prints {\"Alice\": 45000, \"Bob\": 45000, \"Charlie\": 45000}"
   ]
  },
  {
   "cell_type": "markdown",
   "metadata": {},
   "source": [
    "To create a dictionary from a list of key-value tuples, we can use the `dict` function, which takes an iterable of key-value pairs and returns a dictionary. For example:"
   ]
  },
  {
   "cell_type": "code",
   "execution_count": null,
   "metadata": {},
   "outputs": [],
   "source": [
    "client_salary_pairs = [(\"Alice\", 45000), (\"Bob\", 85000), (\"Charlie\", 65000)]\n",
    "clients = dict(client_salary_pairs)\n",
    "\n",
    "print(clients)  # Prints {\"Alice\": 45000, \"Bob\": 85000, \"Charlie\": 65000}\n",
    "print(list(clients.items()))  # Identical to the `client_salary_pairs` list"
   ]
  },
  {
   "cell_type": "markdown",
   "metadata": {},
   "source": [
    "The `zip` function is a built-in function that takes two or more iterables and returns an iterator of tuples, where each tuple contains the corresponding elements from each iterable. For example:"
   ]
  },
  {
   "cell_type": "code",
   "execution_count": null,
   "metadata": {},
   "outputs": [],
   "source": [
    "ages = [25, 30, 22]\n",
    "\n",
    "# Use the zip function to create an iterator of tuples\n",
    "client_age_pairs = zip(names, ages)\n",
    "print(client_age_pairs)  # Prints <zip object at ...>\n",
    "print(list(client_age_pairs))  # Prints [(\"Alice\", 25), (\"Bob\", 30), (\"Charlie\", 22)]"
   ]
  },
  {
   "cell_type": "markdown",
   "metadata": {},
   "source": [
    "The `zip()` function is useful when you want to create a dictionary from two lists. For example:"
   ]
  },
  {
   "cell_type": "code",
   "execution_count": null,
   "metadata": {},
   "outputs": [],
   "source": [
    "print(names)  # Prints [\"Alice\", \"Bob\", \"Charlie\"]\n",
    "print(ages)  # Prints [25, 30, 22]\n",
    "\n",
    "clients = dict(zip(names, ages))\n",
    "print(clients)  # Prints {\"Alice\": 25, \"Bob\": 30, \"Charlie\": 22}"
   ]
  },
  {
   "cell_type": "markdown",
   "metadata": {},
   "source": [
    "#### Exercise\n",
    "\n",
    "Create a dictionary that holds the average grade of each student in a class."
   ]
  },
  {
   "cell_type": "code",
   "execution_count": null,
   "metadata": {},
   "outputs": [],
   "source": [
    "print(students)"
   ]
  },
  {
   "cell_type": "code",
   "execution_count": null,
   "metadata": {},
   "outputs": [],
   "source": [
    "averages = {}  # Initialize an empty dictionary\n",
    "\n",
    "for item in students.items():\n",
    "    name, grades = item\n",
    "    avg = sum(grades) / len(grades)\n",
    "    averages[name] = avg\n",
    "\n",
    "print(averages)"
   ]
  },
  {
   "cell_type": "markdown",
   "metadata": {},
   "source": [
    "## Control flow statements\n",
    "\n",
    "Control flow statements are used to create logic and structure in your code. They allow you to execute different blocks of code depending on certain conditions or iterate over a sequence of values. In this section, we will learn about some common control flow statements in Python, such as `if`/`elif`/`else`, `match`/`case`, and `for`/`while`.\n",
    "\n",
    "### The if/elif/else statement\n",
    "\n",
    "The `if`/`elif`/`else` statement is used to test one or more conditions and execute different blocks of code accordingly.\n",
    "For example, suppose we want to write a program that prints a message based on the value of a variable `x`. We can use the `if`/`elif`/`else` statement as follows:"
   ]
  },
  {
   "cell_type": "code",
   "execution_count": null,
   "metadata": {},
   "outputs": [],
   "source": [
    "# This code prints a message based on the value of x\n",
    "x = 10\n",
    "if x > 0:\n",
    "    print(\"x is positive\")\n",
    "elif x < 0:\n",
    "    print(\"x is negative\")\n",
    "else:\n",
    "    print(\"x is zero\")\n",
    "\n",
    "# The output is:\n",
    "# x is positive"
   ]
  },
  {
   "cell_type": "markdown",
   "metadata": {},
   "source": [
    "As you can see, the `if` keyword is followed by a condition, which is a boolean expression that evaluates to either `True` or `False`. If the condition is `True`, the code block under the `if` clause is executed. If the condition is `False`, the program moves on to the next `elif` clause, if any, and checks its condition. This process is repeated until either a `True` condition is found or all the `elif` clauses are exhausted. If none of the conditions are `True`, the code block under the `else` clause is executed. The `else` clause is optional and can be omitted if there is no default action to take.\n",
    "\n",
    "#### The ternary operator:\n",
    "\n",
    "The ternary operator is a way of writing a conditional expression in one line. It is also known as the conditional operator or the *inline* `if`/`else` statement. The benefit of using the ternary operator is that it can make your code more concise and elegant, especially when you need to assign a value to a variable based on a condition.\n",
    "\n",
    "For example, suppose we want to write a program that to determine whether a number is even or odd. We can use the ternary operator as follows:"
   ]
  },
  {
   "cell_type": "code",
   "execution_count": null,
   "metadata": {},
   "outputs": [],
   "source": [
    "my_number = 12\n",
    "result = \"even\" if my_number % 2 == 0 else \"odd\"\n",
    "print(result)  # Prints \"even\""
   ]
  },
  {
   "cell_type": "markdown",
   "metadata": {},
   "source": [
    "This ternary expression evaluates the condition, which is a boolean expression that returns either `True` or `False`. If the condition is `True`, the expression returns the value that preceded the `if` keyword. If the condition is `False`, the expression returns the value that follows the `else` keyword.\n",
    "\n",
    "The above ternary expression is equivalent to the following:"
   ]
  },
  {
   "cell_type": "code",
   "execution_count": null,
   "metadata": {},
   "outputs": [],
   "source": [
    "if my_number % 2 == 0:\n",
    "    result = \"even\"\n",
    "else:\n",
    "    result = \"odd\""
   ]
  },
  {
   "cell_type": "markdown",
   "metadata": {},
   "source": [
    "As you can see, the ternary operator can save you some lines of code and make your code more readable. However, you should use it with caution, as it may not be very clear or maintainable if the condition or the values are too complex."
   ]
  },
  {
   "cell_type": "markdown",
   "metadata": {},
   "source": [
    "### The match/case statement\n",
    "\n",
    "The `match`/`case` statement is used to match a value against a series of patterns and execute different blocks of code accordingly. The syntax of the `match`/`case` statement is:\n",
    "\n",
    "```python\n",
    "match value:\n",
    "    case pattern_1:\n",
    "        # code block 1\n",
    "    case pattern_2:\n",
    "        # code block 2\n",
    "    ...\n",
    "    case pattern_n:\n",
    "        # code block n\n",
    "    case _:\n",
    "        # default code block\n",
    "```\n",
    "\n",
    "The `match` keyword is followed by a value, which can be any Python object. The `case` keyword is followed by a pattern, which can be a literal value, a variable, a constant, a tuple, a list, a dictionary, a class, or a special wildcard `_`. The patterns are evaluated from top to bottom, and the first one that matches the value is selected. The code block under the selected pattern is executed, and the `match` statement ends. If none of the patterns match the value, and no default code block is provided, the `match` statement ends without executing any code block.\n",
    "\n",
    "For example, suppose we want to write a program that prints a message based on the value of a coordinate variable `point`. We can use the `match`/`case` statement as follows:"
   ]
  },
  {
   "cell_type": "code",
   "execution_count": null,
   "metadata": {},
   "outputs": [],
   "source": [
    "# This code prints a message based on the value of a tuple\n",
    "point = (4, 0)  # the x and y coordinates of the point\n",
    "match point:\n",
    "    case 0, 0:\n",
    "        print(\"on the origin\")\n",
    "    case 0, _:\n",
    "        print(\"on the y-axis\")\n",
    "    case _, 0:\n",
    "        print(\"on the x-axis\")\n",
    "    case _:\n",
    "        print(\"not on the axis\")\n",
    "\n",
    "# The output is:\n",
    "# on the y-axis\n",
    "\n",
    "# The equivalent code without the `match` statement:\n",
    "if point == (0, 0):\n",
    "    print(\"on the origin\")\n",
    "elif point[0] == 0:\n",
    "    print(\"on the y-axis\")\n",
    "elif point[1] == 0:\n",
    "    print(\"on the x-axis\")\n",
    "else:\n",
    "    print(\"not on the axis\")"
   ]
  },
  {
   "cell_type": "markdown",
   "metadata": {},
   "source": [
    "### The for/while statement\n",
    "\n",
    "The `for`/`while` statement is used to create loops that repeat a block of code for a certain number of times or until a condition is met. The syntax of the `for`/`while` statement is:\n",
    "\n",
    "```python\n",
    "# for loop:\n",
    "for variable in iterable:\n",
    "    # code block\n",
    "\n",
    "# while loop:\n",
    "while condition:\n",
    "    # code block\n",
    "```\n",
    "\n",
    "The `for` keyword is followed by a variable and an iterable, which is an object that can return its elements one by one, such as a list, a tuple, a string, a range, or a generator. The code block under the `for` clause is executed for each element of the iterable, and the variable is assigned to the current element. The loop ends when the iterable is exhausted.\n",
    "\n",
    "The `while` keyword is followed by a condition, which is a boolean expression that evaluates to either True or False. The code block under the `while` clause is executed as long as the condition is `True`. The loop ends when the condition becomes `False`.\n",
    "\n",
    "For example, suppose we want to write a program that prints the numbers from 1 to 10 using a loop. We can use either the `for` or the `while` statement as follows:"
   ]
  },
  {
   "cell_type": "code",
   "execution_count": null,
   "metadata": {},
   "outputs": [],
   "source": [
    "# This code prints the numbers from 1 to 10 using a for loop\n",
    "for i in range(1, 11):\n",
    "    print(i)\n",
    "\n",
    "# This code prints the numbers from 1 to 10 using a while loop\n",
    "i = 1\n",
    "while i < 11:\n",
    "    print(i)\n",
    "    i += 1  # or i = i + 1"
   ]
  },
  {
   "cell_type": "markdown",
   "metadata": {},
   "source": [
    "#### Ranges:\n",
    "\n",
    "A range is a special type of object in Python that represents a sequence of numbers. You can use the `range()` function to create a range object. The `range()` function can take one, two, or three arguments, depending on how you want to specify the sequence. The syntax of the `range()` function is:\n",
    "\n",
    "```python\n",
    "range(start, stop, step)\n",
    "```\n",
    "\n",
    "The `start` argument is the first number in the sequence. The `stop` argument is the last number in the sequence, but it is *not* included in the range. The `step` argument is the difference between each number in the sequence. The `start` and `step` arguments are optional and have default values of 0 and 1, respectively. For example:"
   ]
  },
  {
   "cell_type": "code",
   "execution_count": null,
   "metadata": {},
   "outputs": [],
   "source": [
    "r = range(2, 21, 2)\n",
    "\n",
    "# `r` is a range object that contains the numbers 2, 4, ..., 18, 20.\n",
    "# Note that the step argument is 2, which means the numbers in\n",
    "# the range are incremented by 2.\n",
    "\n",
    "print(type(r))  # Prints <class 'range'>"
   ]
  },
  {
   "cell_type": "markdown",
   "metadata": {},
   "source": [
    "Ranges are useful for creating sequences of numbers that can be used in loops or as indices. For example, the following code prints the odd numbers in a list"
   ]
  },
  {
   "cell_type": "code",
   "execution_count": null,
   "metadata": {},
   "outputs": [],
   "source": [
    "my_list = [1, 2, 3, 4, 5]\n",
    "total_numbers = len(my_list)\n",
    "\n",
    "for i in range(total_numbers):\n",
    "    if my_list[i] % 2 != 0:\n",
    "        print(\"{}, at index {}, is an odd number\".format(my_list[i], i))\n",
    "\n",
    "# Note that only one argument is passed to the `range` function.\n",
    "# In this case, the argument is the final number the range will contain (exclusive),\n",
    "# the starting number is set to 0, and the step argument is set to 1 by default."
   ]
  },
  {
   "cell_type": "markdown",
   "metadata": {},
   "source": [
    "#### The brake and continue statements:\n",
    "\n",
    "Sometimes, we may want to exit the loop prematurely or skip some iterations based on certain conditions. In such cases, we can use the `break` and `continue` statements to control the execution of the loop.\n",
    "\n",
    "- The `break` statement terminates the loop entirely, regardless of whether the loop's termination condition has been met. This can be helpful when we want to stop the loop as soon as we find a desired result or encounter an error.\n",
    "- The `continue` statement skips the rest of the current iteration and move on to the next iteration of the loop. This can be helpful when we want to ignore some values or cases in the loop and continue with the remaining ones.\n",
    "\n",
    "For example:"
   ]
  },
  {
   "cell_type": "code",
   "execution_count": null,
   "metadata": {},
   "outputs": [],
   "source": [
    "# The following code prints the numbers from 1 to 10, but stops when it reaches 5.\n",
    "\n",
    "i = 1\n",
    "while i <= 10:\n",
    "    if i == 5:\n",
    "        break  # exit the loop\n",
    "\n",
    "    print(i)\n",
    "    i += 1\n",
    "\n",
    "# Prints numbers 1, 2, 3, 4\n",
    "\n",
    "# The following code prints the odd numbers from 1 to 10, but skips the even numbers.\n",
    "\n",
    "for i in range(1, 11):\n",
    "    if i % 2 == 0:\n",
    "        continue  # skip the rest of the loop body\n",
    "\n",
    "    print(i)\n",
    "\n",
    "# Prints numbers 1, 3, 5, 7, 9"
   ]
  }
 ],
 "metadata": {
  "kernelspec": {
   "display_name": ".venv",
   "language": "python",
   "name": "python3"
  },
  "language_info": {
   "codemirror_mode": {
    "name": "ipython",
    "version": 3
   },
   "file_extension": ".py",
   "mimetype": "text/x-python",
   "name": "python",
   "nbconvert_exporter": "python",
   "pygments_lexer": "ipython3",
   "version": "3.11.6"
  }
 },
 "nbformat": 4,
 "nbformat_minor": 2
}
