{
 "cells": [
  {
   "cell_type": "markdown",
   "metadata": {},
   "source": [
    "# Python for Data Analytics I: Introduction to Python Basics\n",
    "\n",
    "In today's business world, data is everywhere - from sales figures and customer behavior to market trends and financial metrics. But data alone isn't enough; we need the tools and skills to transform this data into actionable business insights.\n",
    "\n",
    "## What You'll Learn\n",
    "\n",
    "Imagine you're a business analyst at a retail company. You have sales data from multiple stores, customer feedback, and inventory levels. How do you make sense of all this data to make better business decisions?\n",
    "\n",
    "In this workshop, you'll learn how Python can help you:\n",
    "\n",
    "- Organize and structure your business data effectively\n",
    "- Calculate key metrics like sales growth and customer retention\n",
    "- Perform basic analysis to uncover patterns and trends\n",
    "- Automate repetitive analysis tasks\n",
    "\n",
    "Whether you're analyzing sales performance, understanding customer segments, or tracking market trends, Python will become your trusted tool for data analytics.\n",
    "\n",
    "Let's get started!\n",
    "\n",
    "---"
   ]
  },
  {
   "cell_type": "markdown",
   "metadata": {},
   "source": [
    "## Your First Python Program\n",
    "\n",
    "In Python, we can use the `print()` function to display text or messages.\n",
    "\n",
    "Let's try it out by printing a message!"
   ]
  },
  {
   "cell_type": "code",
   "execution_count": null,
   "metadata": {},
   "outputs": [],
   "source": [
    "# Print a simple message\n",
    "print(\"Hello, world!\")"
   ]
  },
  {
   "cell_type": "markdown",
   "metadata": {},
   "source": [
    "### What's Happening Here?\n",
    "- `print()` is a function. Think of it as a command that asks Python to display something. But, why do we need to use `print()`?\n",
    "  - Display results, such as totals or averages, during analysis.\n",
    "  - Debug code by checking intermediate values or verifying logic.\n",
    "  - Communicate results clearly in a step-by-step manner.\n",
    "\n",
    "- `\"Hello, World!\"` is a **string**, which means it's a piece of text enclosed in quotes.\n",
    "\n",
    "Try changing the message inside the quotes to something else!"
   ]
  },
  {
   "cell_type": "markdown",
   "metadata": {},
   "source": [
    "## Variables and Data Types\n",
    "\n",
    "A **variable** is a way to store data in Python.\n",
    "Think of it as a labeled box where you can store numbers, text, or other data.\n",
    "\n",
    "In business analytics, we work with different types of data:\n",
    "1. **Numerical** values:\n",
    "   - **Integers**: Whole numbers, such as number of products sold, customer count, inventory units\n",
    "   - **Floats**: Numbers with decimals, like revenue amounts, price points, growth rates\n",
    "2. **Non-Numerical** values:\n",
    "   - **Strings**: Text data, such as product names, customer feedback, market segments\n",
    "   - **Booleans**: True/False values, for example, to represent yes/no answers. Examples include: customer active status, product availability, promotion eligibility\n",
    "   - **None**: A special indicator to represent the absence of a value.\n",
    "\n",
    "We can assign a value to a variable using the assignment operator `=`. Let's explore these with examples."
   ]
  },
  {
   "cell_type": "code",
   "execution_count": null,
   "metadata": {},
   "outputs": [],
   "source": [
    "# Storing data in variables\n",
    "Q1_revenue = 420060.50  # Float for precise financial data\n",
    "num_customers = 250  # Integer for counting\n",
    "product_category = \"Electronics\"  # String for labels\n",
    "is_profitable = True  # Boolean for status checks\n",
    "\n",
    "# Printing the variables\n",
    "print(\"First quarter revenue:\", Q1_revenue)\n",
    "print(\"Product category:\", product_category)"
   ]
  },
  {
   "cell_type": "markdown",
   "metadata": {},
   "source": [
    "We can perform arithmetic operations on numerical variables:"
   ]
  },
  {
   "cell_type": "code",
   "execution_count": null,
   "metadata": {},
   "outputs": [],
   "source": [
    "Q2_revenue = 396_000.75  # Using underscores for better readability\n",
    "\n",
    "# Adding two numbers\n",
    "total_revenue = Q1_revenue + Q2_revenue\n",
    "print(\"Total revenue (Q1 & Q2):\", total_revenue)\n",
    "\n",
    "# Dividing two numbers\n",
    "print(\"Average revenue (Q1 & Q2):\", total_revenue / 2)"
   ]
  },
  {
   "cell_type": "markdown",
   "metadata": {},
   "source": [
    "## Containers: Organizing Data Efficiently\n",
    "\n",
    "So far, we've worked with individual variables like `Q1_revenue` and `Q2_revenue`. But what if we:\n",
    "\n",
    "1. Need to analyze revenue or sales over multiple periods (e.g., days)?\n",
    "2. Want to track all products sold in a week?\n",
    "3. Need to identify unique product categories?\n",
    "\n",
    "For such tasks, we use **containers** in Python to organize and manage collections of data efficiently."
   ]
  },
  {
   "cell_type": "markdown",
   "metadata": {},
   "source": [
    "### Lists: Storing Multiple Items\n",
    "\n",
    "A **list** is an ordered collection of items, often used to represent time series data or multiple data points. Think of a list as a column in Excel, where each row holds a different value.\n",
    "\n",
    "Lists are useful for:\n",
    "- Storing daily sales figures.\n",
    "- Keeping track of product names or categories.\n",
    "\n",
    "#### Example: Daily Sales Figures\n",
    "\n",
    "|       | Day       | Sales |\n",
    "|-------|-----------|-------|\n",
    "| 0     | Sunday    | 200   |\n",
    "| 1     | Monday    | 250   |\n",
    "| 2     | Tuesday   | 300   |\n",
    "| 3     | Wednesday | 200   |\n",
    "| 4     | Thursday  | 400   |\n",
    "| 5     | Friday    | 350   |\n",
    "| 6     | Saturday  | 450   |\n",
    "\n"
   ]
  },
  {
   "cell_type": "code",
   "execution_count": null,
   "metadata": {},
   "outputs": [],
   "source": [
    "# Example: Daily sales in a week\n",
    "days = [\"Sunday\", \"Monday\", \"Tuesday\", \"Wednesday\", \"Thursday\", \"Friday\", \"Saturday\"]\n",
    "daily_sales = [200, 250, 300, 200, 400, 350, 450]\n",
    "\n",
    "print(\"Daily sales for the week:\", daily_sales)"
   ]
  },
  {
   "cell_type": "markdown",
   "metadata": {},
   "source": [
    "We can count the number of items in a list using the `len()` function."
   ]
  },
  {
   "cell_type": "code",
   "execution_count": null,
   "metadata": {},
   "outputs": [],
   "source": [
    "num_of_days = len(daily_sales)\n",
    "print(\"Number of records:\", num_of_days)"
   ]
  },
  {
   "cell_type": "markdown",
   "metadata": {},
   "source": [
    "#### Example: Analyzing Daily Sales\n",
    "\n",
    "Now that we have sales data for the past few days, let's:\n",
    "1. Calculate the total sales over the days.\n",
    "2. Find the average daily sales.\n",
    "3. Identify the highest and lowest sales days."
   ]
  },
  {
   "cell_type": "code",
   "execution_count": null,
   "metadata": {},
   "outputs": [],
   "source": [
    "# Total and average sales\n",
    "total_daily_sales = sum(daily_sales)\n",
    "average_daily_sales = total_daily_sales / num_of_days\n",
    "\n",
    "# Highest and lowest sales\n",
    "highest_sales = max(daily_sales)\n",
    "lowest_sales = min(daily_sales)\n",
    "\n",
    "# Display results\n",
    "print(\"Total sales for the week:\", total_daily_sales)\n",
    "print(\"Average daily sales:\", average_daily_sales)\n",
    "print(\"Highest sales in a day:\", highest_sales)\n",
    "print(\"Lowest sales in a day:\", lowest_sales)"
   ]
  },
  {
   "cell_type": "markdown",
   "metadata": {},
   "source": [
    "The `sum()`, `min()`, and `max()` functions are built-in Python functions that help us perform essential mathematical calculations on containers like lists."
   ]
  },
  {
   "cell_type": "markdown",
   "metadata": {},
   "source": [
    "#### Indexing: Accessing Data in Lists\n",
    "\n",
    "Since lists are ordered collections, we can retrieve specific items using their **index**. Think of a list as a numbered locker room, where each locker (index) holds an item (data).\n",
    "\n",
    "In Python:\n",
    "1. Indexing starts at `0` (the first item is at position `0`).\n",
    "2. Negative indexing allows you to access items from the end of the list (e.g., `-1` refers to the last item).\n",
    "\n",
    "\n",
    "#### Example: Daily Sales\n",
    "Let's say we have a list of sales for the week:\n",
    "- Sunday's sales are at index `0`.\n",
    "- Monday's sales are at index `1`, and so on.\n",
    "\n",
    "We use `[]` with the position of the item (the locker number) to retrieve it.\n"
   ]
  },
  {
   "cell_type": "code",
   "execution_count": null,
   "metadata": {},
   "outputs": [],
   "source": [
    "# Accessing sales data using positive indexing\n",
    "print(\"Sales on Sunday (index 0):\", daily_sales[0])  # first element\n",
    "print(\"Sales on Tuesday (index 2):\", daily_sales[2])\n",
    "\n",
    "# Accessing sales data using negative indexing\n",
    "print(\"Sales on Saturday (index -1):\", daily_sales[-1])  # last element\n",
    "print(\"Sales on Thursday (index -3):\", daily_sales[-3])"
   ]
  },
  {
   "cell_type": "markdown",
   "metadata": {},
   "source": [
    "#### How Indexing Works\n",
    "- **Positive Indexing**: Counts from the beginning of the list (`0` to `len(list) - 1`).\n",
    "- **Negative Indexing**: Counts from the end of the list (`-1` to `-len(list)`).\n",
    " \n",
    "> **Note**: Ensure your index is within `0` to `len(list) - 1` for positive indexing."
   ]
  },
  {
   "cell_type": "markdown",
   "metadata": {},
   "source": [
    "#### Slicing: Extracting Portions of Lists\n",
    "\n",
    "Slicing is a powerful feature in Python that allows you to extract specific portions of a list. It provides a way to access a range of elements from a sequence (like a `list` or `string`) without modifying the original list.\n",
    "\n",
    "The basic syntax for slicing is:\n",
    "\n",
    "```python\n",
    "sequence[start:stop]\n",
    "```\n",
    "\n",
    "- `start`: The index where the slice begins (inclusive). Defaults to 0 if omitted.\n",
    "- `stop`: The index where the slice ends (exclusive). Defaults to the length of the sequence if omitted."
   ]
  },
  {
   "cell_type": "code",
   "execution_count": null,
   "metadata": {},
   "outputs": [],
   "source": [
    "# Example: Using slices to access parts of a list\n",
    "\n",
    "daily_sales = [200, 250, 300, 200, 400, 350, 450]\n",
    "\n",
    "mid_week_sales = daily_sales[2:5]  # Slicing from index 2 to 4 (5-1)\n",
    "print(\"Mid-week sales:\", mid_week_sales)"
   ]
  },
  {
   "cell_type": "code",
   "execution_count": null,
   "metadata": {},
   "outputs": [],
   "source": [
    "early_week_sales = daily_sales[:3]  # Slicing from the beginning to index 2\n",
    "print(\"First three days sales:\", early_week_sales)\n",
    "\n",
    "final_days_sales_total = sum(daily_sales[-2:])  # Slicing from the second last to the end\n",
    "print(\"Sum of last two days sales:\", final_days_sales_total)"
   ]
  },
  {
   "cell_type": "markdown",
   "metadata": {},
   "source": [
    "#### Why Indexing and Slicing Matters\n",
    " Indexing helps us open the right locker to access its contents quickly. We use it to retrieve specific data points from a collection, such as:\n",
    "\n",
    "- The sales on a particular day (e.g., Monday).\n",
    "- The most recent data point in a dataset (e.g., the last recorded sale).\n",
    "\n",
    "Slicing allows us to extract a subset of data from a collection. It's like selecting a range of lockers in a row to see what's inside. We use slicing to obtain:\n",
    "\n",
    "- The sales figures for a range of days (e.g., Monday through Thursday).\n",
    "- The most recent data points in a dataset (e.g., the last five recorded sales).\n"
   ]
  },
  {
   "cell_type": "markdown",
   "metadata": {},
   "source": [
    "#### Key Features of Lists\n",
    "\n",
    "1. **Ordered**: The items have a specific sequence.\n",
    "2. **Indexed**: Access items using their position.\n",
    "3. **Dynamic**: Add or remove items as needed."
   ]
  },
  {
   "cell_type": "code",
   "execution_count": null,
   "metadata": {},
   "outputs": [],
   "source": [
    "# Example: Adding new data to a list\n",
    "daily_sales = [200, 250, 300, 200, 400, 350, 450]\n",
    "\n",
    "daily_sales.append(500)  # Append 500 to the end\n",
    "print(\"Updated sales data:\", daily_sales)"
   ]
  },
  {
   "cell_type": "markdown",
   "metadata": {},
   "source": [
    "### Sets: Unique Collections of Data\n",
    "\n",
    "A **set** is a collection of unique items. Think of it as a way to store distinct categories. Sets are useful for:\n",
    "\n",
    "- Identifying unique products sold in a week.\n",
    "- Checking for overlap between two groups of data.\n",
    "- Removing duplicate entries from a list.\n",
    "- Find the difference between two sets of data."
   ]
  },
  {
   "cell_type": "code",
   "execution_count": null,
   "metadata": {},
   "outputs": [],
   "source": [
    "# Example: Creating a set using curly braces {}\n",
    "customer_segments = {\"Premium\", \"Standard\", \"Basic\"}\n",
    "print(\"Customer segments:\", customer_segments)"
   ]
  },
  {
   "cell_type": "code",
   "execution_count": null,
   "metadata": {},
   "outputs": [],
   "source": [
    "# Example: Finding the difference between two sets\n",
    "\n",
    "current_categories = {\"Electronics\", \"Beauty\", \"Books\", \"Home\", \"Apparel\"}\n",
    "discontinued_categories = {\"Books\", \"Games\"}\n",
    "\n",
    "active_categories = current_categories - discontinued_categories\n",
    "print(\"Active categories:\", active_categories)\n",
    "\n",
    "inactive_categories = current_categories & discontinued_categories\n",
    "print(\"Inactive categories:\", inactive_categories)"
   ]
  },
  {
   "cell_type": "markdown",
   "metadata": {},
   "source": [
    "#### Example: Products Sold in a Day\n",
    "\n",
    "Imagine you want to find all unique products sold today from a list of transactions. Using a set ensures no duplicate product names appear, making your analysis cleaner and more accurate."
   ]
  },
  {
   "cell_type": "code",
   "execution_count": null,
   "metadata": {},
   "outputs": [],
   "source": [
    "# Creating a set based on a list of values\n",
    "products_sold = [\"Laptop\", \"Tablet\", \"Smartphone\", \"Tablet\", \"Laptop\", \"Camera\", \"Camera\"]\n",
    "unique_products = set(products_sold)  # Converting list to set\n",
    "\n",
    "print(\"All products sold:\", products_sold)\n",
    "print(\"Unique products sold:\", unique_products)"
   ]
  },
  {
   "cell_type": "code",
   "execution_count": null,
   "metadata": {},
   "outputs": [],
   "source": [
    "# Finding the number of unique products\n",
    "products_sold = [\"Laptop\", \"Tablet\", \"Smartphone\", \"Tablet\", \"Laptop\", \"Camera\", \"Camera\"]\n",
    "unique_products = set(products_sold)\n",
    "print(\"Number of unique products sold:\", len(unique_products))"
   ]
  },
  {
   "cell_type": "markdown",
   "metadata": {},
   "source": [
    "You can modify a set using the `add()` method to include new items or the `remove()` method to delete existing items."
   ]
  },
  {
   "cell_type": "code",
   "execution_count": null,
   "metadata": {},
   "outputs": [],
   "source": [
    "unique_products.add(\"Smartwatch\")  # Adding a new product\n",
    "print(\"Updated unique products:\", unique_products)\n",
    "print(\"Number of unique products:\", len(unique_products))"
   ]
  },
  {
   "cell_type": "code",
   "execution_count": null,
   "metadata": {},
   "outputs": [],
   "source": [
    "unique_products.add(\"Laptop\")  # Adding a duplicate product\n",
    "print(\"Updated unique products:\", unique_products)\n",
    "print(\"Number of unique products:\", len(unique_products))"
   ]
  },
  {
   "cell_type": "markdown",
   "metadata": {},
   "source": [
    "#### Key Features of Sets\n",
    "\n",
    "1. **Unique**: Automatically removes duplicate items.\n",
    "2. **Unordered**: Items have no specific sequence.\n",
    "3. **Efficient**: Fast operations for checking membership or finding intersections."
   ]
  },
  {
   "cell_type": "markdown",
   "metadata": {},
   "source": [
    "#### Recap: Lists vs. Sets\n",
    "\n",
    "1. **Lists**: Ordered, indexed, and allow duplicates.\n",
    "   - Ideal for storing or tracking sequential data, such as daily sales figures over time.\n",
    "   - Functions like `sum()`, `max()`, `min()`, and `len()` enable quick calculations of totals, averages, trends, and more for lists.\n",
    "2. **Sets**: Unordered, ensure uniqueness.\n",
    "   - Great for analytics tasks where uniqueness matters, such as identifying unique customers or products.\n",
    "   - Use them to store distinct items or to remove duplicates from a large dataset.\n",
    "\n",
    "\n",
    "Next, we'll explore another powerful container: **dictionaries**, which allow us to map keys to values for quick lookups.\n"
   ]
  },
  {
   "cell_type": "markdown",
   "metadata": {},
   "source": [
    "### Dictionaries: Mapping Keys to Values\n",
    "\n",
    "Imagine you're managing sales data for multiple products. \n",
    "- Using a list, you'd have to keep track of indices manually to know which value belongs to which product.\n",
    "- Using a set, you'd lose the ability to link products with their specific sales figures.\n",
    "\n",
    "**Lists** and **Sets** are useful containers for storing and organizing data.\n",
    "But **dictionaries** allow us to:\n",
    "1. **Map one value to another**\n",
    "   - Storing sales by product (e.g., `\"Laptop\": 530`).\n",
    "   - Mapping customer names to their purchase history.\n",
    "2. **Quickly retrieve specific values by a key?**\n",
    "   - Looking up the sales figure for `\"Tablet\"`.\n",
    "   - Finding the details for a given store.\n",
    "3. **Add or update data dynamically?**\n",
    "   - Add sales for a new product or update the sales for `\"Camera\"`.\n",
    "   - Store additional details for a customer.\n",
    "\n",
    "Lists and sets aren't designed for this kind of task. Instead, we use a **dictionary**."
   ]
  },
  {
   "cell_type": "markdown",
   "metadata": {},
   "source": [
    "#### What Is a Dictionary?\n",
    "\n",
    "A **dictionary** is a collection of key-value pairs, where:\n",
    "- A **key** acts like a label (e.g., product name).\n",
    "- A **value** is the data associated with the key (e.g., sales figure).\n",
    "\n",
    "\n",
    "A dictionary is created using curly braces `{}`:\n",
    "```python\n",
    "dictionary_name = {key1: value1, key2: value2, ...}\n",
    "```\n",
    "\n",
    "Dictionaries in Python allow us to organize and retrieve data efficiently using **key-value** pairs."
   ]
  },
  {
   "cell_type": "markdown",
   "metadata": {},
   "source": [
    "#### Example: Total Product Sales\n",
    "\n",
    "| Product (key) | Sales (value) |\n",
    "|---------------|---------------|\n",
    "| Laptop        | 530           |\n",
    "| Tablet        | 400           |\n",
    "| Smartphone    | 690           |\n",
    "| Camera        | 530           |"
   ]
  },
  {
   "cell_type": "code",
   "execution_count": null,
   "metadata": {},
   "outputs": [],
   "source": [
    "# Total sales by product\n",
    "total_sales_by_product = {\n",
    "    \"Laptop\": 530,\n",
    "    \"Tablet\": 400,\n",
    "    \"Smartphone\": 690,\n",
    "    \"Camera\": 530,\n",
    "}\n",
    "\n",
    "# Accessing values using the key inside square brackets\n",
    "laptop_sales = total_sales_by_product[\"Laptop\"]\n",
    "print(\"Laptop sales:\", laptop_sales)"
   ]
  },
  {
   "cell_type": "markdown",
   "metadata": {},
   "source": [
    "#### Keys and Values in Dictionaries\n",
    "\n",
    "We can access the keys and values of a dictionary using the `keys()` and `values()` methods, respectively. To retrieve both keys and values together, we use the `items()` method."
   ]
  },
  {
   "cell_type": "code",
   "execution_count": null,
   "metadata": {},
   "outputs": [],
   "source": [
    "# Accessing keys\n",
    "keys = total_sales_by_product.keys()\n",
    "print(\"Keys:\", keys)\n",
    "\n",
    "# Accessing values\n",
    "values = total_sales_by_product.values()\n",
    "print(\"Values:\", values)\n",
    "\n",
    "# Accessing items\n",
    "items = total_sales_by_product.items()\n",
    "print(\"Items:\", items)"
   ]
  },
  {
   "cell_type": "code",
   "execution_count": null,
   "metadata": {},
   "outputs": [],
   "source": [
    "# Daily sales by product\n",
    "daily_sales_by_product = {\n",
    "    \"Laptop\": [50, 60, 70, 40, 100, 90, 120],\n",
    "    \"Tablet\": [30, 40, 50, 30, 80, 70, 100],\n",
    "    \"Smartphone\": [70, 80, 100, 60, 120, 110, 150],\n",
    "    \"Camera\": [50, 70, 80, 70, 100, 80, 80],\n",
    "}\n",
    "\n",
    "# Accessing values using the key inside square brackets\n",
    "print(\"Sales for Laptop:\", daily_sales_by_product[\"Laptop\"])\n",
    "print(\"Last day's Tablet sales:\", daily_sales_by_product[\"Tablet\"][-1])\n",
    "print(\"Total Camera sales:\", sum(daily_sales_by_product[\"Camera\"]))"
   ]
  },
  {
   "cell_type": "markdown",
   "metadata": {},
   "source": [
    "#### Key Features of Dictionaries\n",
    "1. **Key-Value Pairing**:\n",
    "   - Keys act as labels (e.g., `\"Laptop\"`), and values store the associated data (e.g., a list of recent sales).\n",
    "2. **Fast Lookups**:\n",
    "   - Access values directly using keys, which is faster than searching in a list.\n",
    "3. **Dynamic**:\n",
    "   - Easily add, update, or remove key-value pairs.\n",
    "\n",
    "Let's explore these features in more detail.\n"
   ]
  },
  {
   "cell_type": "code",
   "execution_count": null,
   "metadata": {},
   "outputs": [],
   "source": [
    "# Adding a new product\n",
    "daily_sales_by_product[\"Smartwatch\"] = [40, 50, 60, 30, 70, 60, 80]\n",
    "print(\"Updated sales data:\", daily_sales_by_product)"
   ]
  },
  {
   "cell_type": "code",
   "execution_count": null,
   "metadata": {},
   "outputs": [],
   "source": [
    "# Updating sales for an existing product\n",
    "daily_sales_by_product[\"Smartwatch\"][-1] = 81\n",
    "print(\"Smartwatch sales after update:\", daily_sales_by_product[\"Smartwatch\"])"
   ]
  },
  {
   "cell_type": "markdown",
   "metadata": {},
   "source": [
    "#### Modifying a Dictionary\n",
    "\n",
    "1. To **add** a new key-value pair, use the syntax:\n",
    "   ```python\n",
    "    dictionary_name[new_key] = new_value\n",
    "   ```\n",
    "2. To **update** an existing key's value, assign a new value to the key:\n",
    "   ```python\n",
    "    dictionary_name[existing_key] = new_value\n",
    "   ```\n",
    "3. To **remove** a key-value pair, use the `pop()` method:\n",
    "   ```python\n",
    "    dictionary_name.pop(key_to_remove)\n",
    "   ```\n",
    "\n",
    "\n",
    "> **Note**: Dictionary keys must be unique. If you assign a value to an existing key, it will update the existing value, not create a new key."
   ]
  },
  {
   "cell_type": "markdown",
   "metadata": {},
   "source": [
    "Dictionaries can contain other dictionaries as values. This is known as a *nested dictionary*."
   ]
  },
  {
   "cell_type": "code",
   "execution_count": null,
   "metadata": {},
   "outputs": [],
   "source": [
    "# Nested dictionary: Store performance metrics\n",
    "store_metrics = {\n",
    "    \"Edmonton\": {\n",
    "        \"revenue\": 89000.75,\n",
    "        \"customer_count\": 900,\n",
    "        \"top_products\": {\"Camera\", \"Smartwatch\", \"Laptop\"},\n",
    "        \"quarterly_sales\": [500, 400, 650, 700],\n",
    "    },\n",
    "    \"Calgary\": {\n",
    "        \"revenue\": 120000.50,\n",
    "        \"customer_count\": 1200,\n",
    "        \"top_products\": {\"Laptop\", \"Smartphone\", \"Tablet\"},\n",
    "        \"quarterly_sales\": [600, 550, 750, 600],\n",
    "    },\n",
    "    \"Red_Deer\": {\n",
    "        \"revenue\": 45000.25,\n",
    "        \"customer_count\": 510,\n",
    "        \"top_products\": {\"Tablet\", \"Smartphone\", \"Laptop\"},\n",
    "        \"quarterly_sales\": [150, 200, 300, 350],\n",
    "    },\n",
    "}\n",
    "\n",
    "# Accessing specific information\n",
    "print(\"Calgary store revenue:\", store_metrics[\"Calgary\"][\"revenue\"])\n",
    "print(\"Edmonton store sales in Q1:\", store_metrics[\"Edmonton\"][\"quarterly_sales\"][0])"
   ]
  },
  {
   "cell_type": "markdown",
   "metadata": {},
   "source": [
    "#### Nested Dictionaries\n",
    "- Organize complex business data (store profiles, sales metrics, inventory, customer information)\n",
    "- Access specific data points easily, such as the sales for a particular store.\n",
    "- Easy updates as new data comes in\n",
    "- Efficient data analysis and reporting"
   ]
  },
  {
   "cell_type": "markdown",
   "metadata": {},
   "source": [
    "#### Recap: Why Use Dictionaries?\n",
    "1. Use **dictionaries** when working with natural key-value mapping for real-world data, such as store details.\n",
    "2. Keys act as labels, making the data structure more intuitive and readable.\n",
    "3. Direct access to values using unique keys makes the lookups more efficient.\n",
    "4. Can mix different data types as values.\n",
    "5. Nested data structures enables complex business models.\n",
    "\n",
    "##### Comparing Lists, Sets, and Dictionaries\n",
    "\n",
    "| Feature            | List                     | Set                  | Dictionary                         |\n",
    "|--------------------|--------------------------|----------------------|------------------------------------|\n",
    "| Order              | Ordered                  | Unordered            | Keys: Unordered, Values: Any       |\n",
    "| Duplicates         | Allowed                  | Not Allowed          | Keys: Not Allowed, Values: Allowed |\n",
    "| Access             | By index                 | By membership        | By key                             |\n",
    "| Use Case           | Sequential data          | Unique items         | Key-value pairs                    |\n",
    "\n",
    "---"
   ]
  },
  {
   "cell_type": "markdown",
   "metadata": {},
   "source": [
    "## Making Decisions with Conditional Statements\n",
    "\n",
    "In data analytics, we often need to make decisions based on the data. For example:\n",
    "\n",
    "- Apply a discount if a customer's total spending exceeds $100.\n",
    "- Categorize sales as \"low,\" \"medium,\" or \"high\" based on thresholds.\n",
    "- Check for missing or invalid data in a dataset.\n",
    "\n",
    "In Python, we use **conditional statements** to implement such decision-making.\n",
    "Let's explore how Python's `if`, `elif`, and `else` statements help us make decisions and tailor our analyses to different data scenarios."
   ]
  },
  {
   "cell_type": "markdown",
   "metadata": {},
   "source": [
    "### Example: Identify A Sales Figure Below Average"
   ]
  },
  {
   "cell_type": "code",
   "execution_count": null,
   "metadata": {},
   "outputs": [],
   "source": [
    "daily_sales = [200, 250, 300, 200, 400, 350, 450]\n",
    "average_sales = sum(daily_sales) / len(daily_sales)\n",
    "print(\"Average daily sales:\", average_sales)"
   ]
  },
  {
   "cell_type": "code",
   "execution_count": null,
   "metadata": {},
   "outputs": [],
   "source": [
    "# Lets investigate the first day's sales\n",
    "sales = daily_sales[0]\n",
    "\n",
    "if sales > average_sales:\n",
    "    print(\"Selected sales were above average.\")\n",
    "elif sales < average_sales:\n",
    "    print(\"Selected sales were below average.\")\n",
    "else:\n",
    "    print(\"Selected sales were exactly at the average.\")"
   ]
  },
  {
   "cell_type": "markdown",
   "metadata": {},
   "source": [
    "### How `if/else` Statements Work\n",
    "\n",
    "\n",
    "Conditional statements allow Python to execute specific blocks of code based on one or multiple conditions.\n",
    "They follow this structure:\n",
    "\n",
    "```python\n",
    "if condition_1:\n",
    "    # Code Block 1\n",
    "elif condition_2:\n",
    "    # Code Block 2\n",
    "...\n",
    "elif condition_n:\n",
    "    # Code Block n\n",
    "else:\n",
    "    # The default code block\n",
    "    # Code to execute if none of the conditions are True\n",
    "```\n",
    "\n",
    "Python uses Boolean logic to determine the result of the conditions in order. If a condition is `True`, the corresponding code block is executed. Otherwise, the next condition is checked. If none of the conditions are `True`, the `else` block is executed (if present)."
   ]
  },
  {
   "cell_type": "markdown",
   "metadata": {},
   "source": [
    "\n",
    "```mermaid\n",
    "flowchart TD\n",
    "    A[Start] --> B{condition_1}\n",
    "    B -- True --> C[Execute Code Block 1]\n",
    "    B -- False --> D{condition_2}\n",
    "    D -- True --> E[Execute Code Block 2]\n",
    "    D -- False --> X{...}\n",
    "    X --> F{condition_n}\n",
    "    F -- True --> G[Execute Code Block n]\n",
    "    F -- False --> H[Execute Code Block for else]\n",
    "    C --> I[End]\n",
    "    E --> I\n",
    "    G --> I\n",
    "    H --> I\n",
    "```\n"
   ]
  },
  {
   "cell_type": "markdown",
   "metadata": {},
   "source": [
    "#### What is a Condition?\n",
    "\n",
    "A **condition** is any expression that evaluates to `True` or `False`. In Python, we use **comparison operators** to create conditions:\n",
    "\n",
    "- Comparison Operators:\n",
    "    - `>` (greater than), `<` (less than), `==` (equal to), `!=` (not equal to).\n",
    "- Logical Operators:\n",
    "    - `and`, `or`, `not` to combine multiple conditions.\n",
    "- Membership Operators:\n",
    "    - `in`, `not in` to check if a value exists in a collection."
   ]
  },
  {
   "cell_type": "markdown",
   "metadata": {},
   "source": [
    "### Example: Assigning Bonus Points to Store Members\n",
    "\n",
    "Suppose that we have a nested dictionary containing information about our stores:"
   ]
  },
  {
   "cell_type": "code",
   "execution_count": null,
   "metadata": {},
   "outputs": [],
   "source": [
    "store_metrics = {\n",
    "    \"Edmonton\": {\n",
    "        \"revenue\": 89000.75,\n",
    "        \"customer_count\": 900,\n",
    "        \"top_products\": {\"Camera\", \"Smartwatch\", \"Laptop\"},\n",
    "        \"quarterly_sales\": [500, 400, 650, 700],\n",
    "    },\n",
    "    \"Calgary\": {\n",
    "        \"revenue\": 120000.50,\n",
    "        \"customer_count\": 1200,\n",
    "        \"top_products\": {\"Laptop\", \"Smartphone\", \"Tablet\"},\n",
    "        \"quarterly_sales\": [600, 550, 750, 600],\n",
    "    },\n",
    "    \"Red_Deer\": {\n",
    "        \"revenue\": 45000.25,\n",
    "        \"customer_count\": 510,\n",
    "        \"top_products\": {\"Tablet\", \"Smartphone\", \"Laptop\"},\n",
    "        \"quarterly_sales\": [150, 200, 300, 350],\n",
    "    },\n",
    "}"
   ]
  },
  {
   "cell_type": "markdown",
   "metadata": {},
   "source": [
    "Now, imagine that we want to assign bonus points to store teams based on their performance. We follow these rules:\n",
    "- Assign a high bonus percentage if the store has reached a target monthly revenue ($100,000.00)\n",
    "- Assign a small bonus percentage if the store's revenue is close to the target (within 15% range)\n",
    "- No bonus is assigned if the store's revenue is far from the target\n",
    "\n",
    "We can use conditional statements to assign bonus points based on the `\"revenue\"` metric:"
   ]
  },
  {
   "cell_type": "code",
   "execution_count": null,
   "metadata": {},
   "outputs": [],
   "source": [
    "target_revenue = 100_000.0\n",
    "\n",
    "store = \"Calgary\"\n",
    "revenue = store_metrics[store][\"revenue\"]  # Access the revenue for the selected store\n",
    "\n",
    "if revenue >= target_revenue:\n",
    "    bonus_percent = 0.15\n",
    "    print(\"Monthly target achieved! Team bonus approved.\")\n",
    "elif revenue > 0.85 * target_revenue:\n",
    "    bonus_percent = 0.05\n",
    "    print(\"Close to target. Small bonus approved.\")\n",
    "else:\n",
    "    bonus_percent = 0.0\n",
    "    print(\"Target not met. Review needed.\")\n",
    "\n",
    "# Add bonus information to the store's data\n",
    "store_metrics[store][\"bonus\"] = bonus_percent\n",
    "\n",
    "print(\"Updated store data:\", store_metrics[store])"
   ]
  },
  {
   "cell_type": "markdown",
   "metadata": {},
   "source": [
    "Now, try to assign bonus points to another store by changing the store name!"
   ]
  },
  {
   "cell_type": "markdown",
   "metadata": {},
   "source": [
    "#### Key Features of This Example\n",
    "1. **Using a Dictionary**: Stores multiple attributes for a store.\n",
    "2. **Conditional Statements**: Categorizes the stores based on their `\"revenue\"`.\n",
    "3. **Personalized Messages**: Combines data from the dictionary to display meaningful outputs.\n",
    "4. **Updating Store Data**: Easily modify the records to include a new attribute `\"bonus\"`."
   ]
  },
  {
   "cell_type": "code",
   "execution_count": null,
   "metadata": {},
   "outputs": [],
   "source": [
    "store = \"Red_Deer\"\n",
    "\n",
    "# Check if a bonus percentage is assigned to the store\n",
    "if \"bonus\" not in store_metrics[store]:\n",
    "    print(\"No bonus information available for store\", store)\n",
    "else:\n",
    "    bonus_percent = store_metrics[store][\"bonus\"]\n",
    "    print(\"Bonus percentage for store\", store, \":\", bonus_percent)"
   ]
  },
  {
   "cell_type": "markdown",
   "metadata": {},
   "source": [
    "### 🧑‍💻 Exercise: Even More Bonuses!\n",
    "\n",
    "A store is eligible if revenue is at least 90% of the target and customer count is 600 or more. Check if our stores are eligible for a special bonus."
   ]
  },
  {
   "cell_type": "code",
   "execution_count": null,
   "metadata": {},
   "outputs": [],
   "source": [
    "store = \"Edmonton\"\n",
    "\n",
    "# <YOUR CODE HERE>\n",
    "\n",
    "revenue = store_metrics[store][\"revenue\"]\n",
    "num_customers = store_metrics[store][\"customer_count\"]\n",
    "\n",
    "condition_1 = revenue > 0.9 * target_revenue\n",
    "condition_2 = num_customers >= 600\n",
    "\n",
    "if condition_1 and condition_2:\n",
    "    print(\"Store\", store, \"is eligible for a special bonus point!\")\n",
    "else:\n",
    "    print(\"Store did not meet the criteria for a special bonus.\")\n",
    "    print(\"Revenue condition:\", condition_1)\n",
    "    print(\"Customer condition:\", condition_2)"
   ]
  },
  {
   "cell_type": "markdown",
   "metadata": {},
   "source": [
    "### Recap: Conditional Statements\n",
    "\n",
    "Controlling the decision flow in our programs is a crucial skill in data analytics for implementing logic and decision-making.\n",
    "\n",
    "1. **What Are Conditional Statements?**\n",
    "   - Tools to execute specific code blocks based on whether a condition is `True` or `False`.\n",
    "\n",
    "2. **How They Work:**\n",
    "   - Python evaluates conditions in order (`if`, `elif`, `else`).\n",
    "   - Stops as soon as a `True` condition is found.\n",
    "   - Provides a fallback (`else`) for cases that don't match any condition.\n",
    "\n",
    "3. **Why They Matter in Data Analytics:**\n",
    "   - **Decision-Making**: Automatically categorize or process data based on criteria.\n",
    "     - Example: Assigning bonuses to employees, Categorizing customers by their order amount.\n",
    "   - **Dynamic Analysis**: Apply business logic like discounts or flags for anomalies.\n",
    "     - Example: Detecting orders exceeding a certain threshold.\n",
    "   - **Custom Logic**: Tailor workflows based on data characteristics.\n",
    "     - Example: Handling missing or invalid data.\n",
    "\n",
    "\n",
    "In the next section, we'll explore **loops**, which allow us to repeat tasks efficiently. This is especially useful for analyzing larger datasets or automating repetitive operations.\n",
    "\n",
    "---"
   ]
  },
  {
   "cell_type": "markdown",
   "metadata": {},
   "source": [
    "## Automating Repetitive Tasks with Loops\n",
    "\n",
    "In data analytics, we often work with datasets containing thousands or even millions of records. Imagine needing to:\n",
    "1. Analyze daily sales for an entire year.\n",
    "2. Send personalized messages to hundreds of customers.\n",
    "3. Apply bonuses to all employees based on their team performance.\n",
    "3. Identify and remove duplicate entries in a dataset.\n",
    "\n",
    "Doing these tasks manually would be inefficient and time-consuming. This is where **loops** come to the rescue! Loops empower us to automate repetitive tasks, making our workflows faster and more efficient.\n",
    "\n",
    "### Types of Loops in Python:\n",
    "1. **`while` Loop**: Perfect for repeating a task until a specific condition is met.\n",
    "2. **`for` Loop**: Ideal for iterating over a sequence when you know the exact number of iterations.\n",
    "\n",
    "Let's dive into how loops work and discover how they can make our data analysis tasks easier."
   ]
  },
  {
   "cell_type": "markdown",
   "metadata": {},
   "source": [
    "### `while` Loops: Repeating Tasks Until a Condition is Met\n",
    "\n",
    "A `while` loop keeps repeating as long as a specified condition is `True`.\n",
    "It's like saying, \"Keep doing this until something changes.\""
   ]
  },
  {
   "cell_type": "markdown",
   "metadata": {},
   "source": [
    "```mermaid\n",
    "flowchart TD\n",
    "    Start --> Condition{Condition True?}\n",
    "    Condition -- Yes --> Body[Execute Loop Body]\n",
    "    Body --> Condition\n",
    "    Condition -- No --> End[Exit Loop]\n",
    "```"
   ]
  },
  {
   "cell_type": "markdown",
   "metadata": {},
   "source": [
    "Let's see how a `while` loop works with an example."
   ]
  },
  {
   "cell_type": "code",
   "execution_count": null,
   "metadata": {},
   "outputs": [],
   "source": [
    "# Example: Simulating stock level changes\n",
    "\n",
    "inventory = 5\n",
    "while inventory >= 0:\n",
    "    print(inventory)\n",
    "    inventory -= 1  # Equivalent to inventory = inventory - 1"
   ]
  },
  {
   "cell_type": "markdown",
   "metadata": {},
   "source": [
    "#### Example: Calculating the Total Sales"
   ]
  },
  {
   "cell_type": "code",
   "execution_count": null,
   "metadata": {},
   "outputs": [],
   "source": [
    "daily_sales = [200, 250, 300, 200, 400, 350, 450]\n",
    "\n",
    "print(\"Daily sales figures:\")\n",
    "index = 0\n",
    "while index < len(daily_sales):\n",
    "    sales = daily_sales[index]\n",
    "    print(\"Day\", index + 1, \"sales:\", sales)\n",
    "    index += 1  # Go to the next day"
   ]
  },
  {
   "cell_type": "markdown",
   "metadata": {},
   "source": [
    "##### How It Works\n",
    "\n",
    "The goal of the `while` loop in this example is to iterate through the `daily_sales` list and print the sales figures for each day. Here's how it works:\n",
    "\n",
    "1. **Initialization**  \n",
    "   The loop begins with an `index` variable set to `0`, which tracks the current position in the `daily_sales` list. This index is used to access each day's sales data.\n",
    "\n",
    "2. **Condition Evaluation**  \n",
    "   The loop runs as long as the `index` is less than the total number of items in the list (`len(daily_sales)`). On each iteration, Python checks if the current `index` is still within the bounds of the list.\n",
    "\n",
    "3. **Processing and Incrementing**  \n",
    "   During each iteration, the sales for the current day are retrieved using the index. The day number and corresponding sales figure are printed, and the `index` is incremented by 1 to move to the next day.\n",
    "   \n",
    "4. **Termination**: When `index` equals `len(daily_sales)`, the condition `index < len(daily_sales)` evaluates to `False`, and the loop stops."
   ]
  },
  {
   "cell_type": "markdown",
   "metadata": {},
   "source": [
    "#### Example: Cumulative Sales\n",
    "\n",
    "Let's use Python loops to determine the day on which cumulative sales exceed a certain threshold."
   ]
  },
  {
   "cell_type": "code",
   "execution_count": null,
   "metadata": {},
   "outputs": [],
   "source": [
    "daily_sales = [200, 250, 300, 200, 400, 350, 450]\n",
    "\n",
    "threshold = 1000  # Threshold for cumulative sales\n",
    "\n",
    "index = 0  # Start from the first day\n",
    "cumulative_sales = 0\n",
    "\n",
    "# Using a while loop\n",
    "while index < len(daily_sales) and cumulative_sales < threshold:\n",
    "    cumulative_sales += daily_sales[index]  # Add the current day's sales to the cumulative total\n",
    "    index += 1\n",
    "\n",
    "\n",
    "print(\"Reached the threshold on day\", index)"
   ]
  },
  {
   "cell_type": "markdown",
   "metadata": {},
   "source": [
    "### `for` Loops: Iterating Through Collections\n",
    "\n",
    "A `for` loop is perfect for iterating over collections like lists, dictionaries, or ranges.\n",
    "It's like saying, \"For each item in this collection, do something.\"\n",
    "\n",
    "#### Example: Iterating through daily sales"
   ]
  },
  {
   "cell_type": "code",
   "execution_count": null,
   "metadata": {},
   "outputs": [],
   "source": [
    "daily_sales = [200, 250, 300, 200, 400, 350, 450]\n",
    "\n",
    "print(\"Daily sales figures:\")\n",
    "for sales in daily_sales:\n",
    "    print(sales)"
   ]
  },
  {
   "cell_type": "markdown",
   "metadata": {},
   "source": [
    "##### How It Works\n",
    "\n",
    "1. The `for` loop goes through each item in `daily_sales`, one by one.\n",
    "2. The variable `sales` represents the current item in the list.\n",
    "3. The `print(sales)` statement runs for each item, displaying the daily sales figure.\n",
    "\n",
    "This is much easier than writing separate `print()` statements for each day!\n",
    "\n",
    "#### Example: Calculating Total and Average Sales"
   ]
  },
  {
   "cell_type": "code",
   "execution_count": null,
   "metadata": {},
   "outputs": [],
   "source": [
    "total_sales = 0\n",
    "num_of_days = 0\n",
    "for sales in daily_sales:\n",
    "    total_sales += sales  # equivalent to: total_sales = total_sales + sales\n",
    "    num_of_days += 1\n",
    "\n",
    "print(\"Total weekly sales:\", total_sales)\n",
    "print(\"Average daily sales:\", total_sales / num_of_days)"
   ]
  },
  {
   "cell_type": "markdown",
   "metadata": {},
   "source": [
    "#### 🧑‍💻 Exercise: Dealing with Outliers in Sales Data"
   ]
  },
  {
   "cell_type": "code",
   "execution_count": null,
   "metadata": {},
   "outputs": [],
   "source": [
    "daily_sales = [200, 250, 3000, 200, 400, 350, 0]  # Contains outliers\n",
    "clean_sales = []  # An empty list to store cleaned data\n",
    "\n",
    "common_max_sales = 1000\n",
    "common_min_sales = 20\n",
    "\n",
    "# Solution 1: Remove the outliers\n",
    "\n",
    "for sales in daily_sales:\n",
    "    if common_min_sales <= sales <= common_max_sales:  # Only add non-outliers\n",
    "        clean_sales.append(sales)\n",
    "    # No else block needed\n",
    "\n",
    "num_outliers = len(daily_sales) - len(clean_sales)\n",
    "print(\"Removed\", num_outliers, \"outlier(s)\")\n",
    "print(\"Cleaned sales data:\", clean_sales)"
   ]
  },
  {
   "cell_type": "code",
   "execution_count": null,
   "metadata": {},
   "outputs": [],
   "source": [
    "# Solution 2: Replace the outliers with the average of the non-outliers\n",
    "\n",
    "average_sales = sum(clean_sales) / len(clean_sales)\n",
    "\n",
    "# <YOUR CODE HERE>\n",
    "\n",
    "clean_sales = []\n",
    "\n",
    "for sales in daily_sales:\n",
    "    if common_min_sales <= sales <= common_max_sales:\n",
    "        clean_sales.append(sales)\n",
    "    else:\n",
    "        clean_sales.append(average_sales)\n",
    "\n",
    "print(\"Cleaned sales data:\", clean_sales)"
   ]
  },
  {
   "cell_type": "markdown",
   "metadata": {},
   "source": [
    "#### 🧑‍💻 Exercise (continued)\n",
    "\n",
    "As an alternative solution, you'll replace any sales figures that are outside the range of `common_min_sales` and `common_max_sales` with the closest non-outlier value. This will help in cleaning the data and making it more reliable for analysis."
   ]
  },
  {
   "cell_type": "code",
   "execution_count": null,
   "metadata": {},
   "outputs": [],
   "source": [
    "# Solution 3: Replace the outliers with the closest non-outlier\n",
    "\n",
    "daily_sales = [200, 250, 3000, 200, 400, 350, 0]  # Contains outliers\n",
    "non_outliers = []  # An empty list to store non-outliers\n",
    "clean_sales = []  # An empty list to store cleaned data\n",
    "\n",
    "common_max_sales = 1000\n",
    "common_min_sales = 20\n",
    "\n",
    "# Step 1: Identify the non-outliers\n",
    "\n",
    "# <YOUR CODE HERE>\n",
    "\n",
    "for sales in daily_sales:\n",
    "    if common_min_sales <= sales <= common_max_sales:\n",
    "        non_outliers.append(sales)\n",
    "\n",
    "# Step 2: Replace the outliers with the closest non-outlier\n",
    "\n",
    "# <YOUR CODE HERE>\n",
    "\n",
    "for sales in daily_sales:\n",
    "    if sales in non_outliers:\n",
    "        clean_sales.append(sales)\n",
    "    else:\n",
    "        # Find the closest non-outlier\n",
    "        closest_nonoutlier = non_outliers[0]  # Initialize with the first non-outlier\n",
    "        min_difference = abs(sales - closest_nonoutlier)  # Tracks the minimum difference\n",
    "\n",
    "        for non_outlier in non_outliers[1:]:\n",
    "            if abs(sales - non_outlier) < min_difference:\n",
    "                closest_nonoutlier = non_outlier\n",
    "                min_difference = abs(sales - non_outlier)\n",
    "        clean_sales.append(closest_nonoutlier)\n",
    "\n",
    "print(\"Cleaned sales data:\", clean_sales)"
   ]
  },
  {
   "cell_type": "markdown",
   "metadata": {},
   "source": [
    "##### How It Works\n",
    "\n",
    "This code cleans the `daily_sales` data by replacing outliers with the closest non-outlier. Here's how it works:\n",
    "\n",
    "1. **Step 1 - Identify Non-Outliers**:\n",
    "   The first loop iterates through `daily_sales` to collect all values within the acceptable range and stores them in the `non_outliers` list.  \n",
    "\n",
    "2. **Step 2 - Replace Outliers**:\n",
    "   The second loop checks each value in `daily_sales`:\n",
    "   - If the value is a non-outlier, it is added directly to `clean_sales`.\n",
    "   - If it is an outlier, the loop finds the closest non-outlier by comparing the difference between the outlier and each value in the `non_outliers` list. The closest value is then added to `clean_sales`.\n",
    "\n",
    "3. **Output**:\n",
    "   Finally, the `clean_sales` list contains the cleaned data where all outliers are replaced with the nearest valid sales values.  "
   ]
  },
  {
   "cell_type": "markdown",
   "metadata": {},
   "source": [
    "#### Example: Categorizing Stores\n",
    "\n",
    "We can use loops to iterate through dictionaries, making it easy to analyze or update store information."
   ]
  },
  {
   "cell_type": "code",
   "execution_count": null,
   "metadata": {},
   "outputs": [],
   "source": [
    "store_metrics = {\n",
    "    \"Edmonton\": {\n",
    "        \"revenue\": 89000.75,\n",
    "        \"customer_count\": 900,\n",
    "        \"top_products\": {\"Camera\", \"Smartwatch\", \"Laptop\"},\n",
    "        \"quarterly_sales\": [500, 400, 650, 700],\n",
    "    },\n",
    "    \"Calgary\": {\n",
    "        \"revenue\": 120000.50,\n",
    "        \"customer_count\": 1200,\n",
    "        \"top_products\": {\"Laptop\", \"Smartphone\", \"Tablet\"},\n",
    "        \"quarterly_sales\": [600, 550, 750, 600],\n",
    "    },\n",
    "    \"Red_Deer\": {\n",
    "        \"revenue\": 45000.25,\n",
    "        \"customer_count\": 510,\n",
    "        \"top_products\": {\"Tablet\", \"Smartphone\", \"Laptop\"},\n",
    "        \"quarterly_sales\": [150, 200, 300, 350],\n",
    "    },\n",
    "}\n",
    "\n",
    "# Iterate over the dictionary using the keys\n",
    "for store in store_metrics:\n",
    "    revenue = store_metrics[store][\"revenue\"]\n",
    "    if revenue >= target_revenue:\n",
    "        bonus_percent = 0.15\n",
    "    elif revenue > 0.85 * target_revenue:\n",
    "        bonus_percent = 0.05\n",
    "    else:\n",
    "        bonus_percent = 0.0\n",
    "\n",
    "    # Add bonus information to the store's data\n",
    "    store_metrics[store][\"bonus\"] = bonus_percent\n",
    "\n",
    "print(\"Updated store data:\")\n",
    "print(store_metrics)"
   ]
  },
  {
   "cell_type": "markdown",
   "metadata": {},
   "source": [
    "#### 🧑‍💻 Exercise: Finding the Store with the Highest Total Sales"
   ]
  },
  {
   "cell_type": "code",
   "execution_count": null,
   "metadata": {},
   "outputs": [],
   "source": [
    "highest_sales = 0\n",
    "top_store = None  # Not identified yet\n",
    "\n",
    "# <YOUR CODE HERE>\n",
    "\n",
    "# Iterate over the dictionary using the key-value pairs (items)\n",
    "for store, metrics in store_metrics.items():\n",
    "    total_sales = sum(metrics[\"quarterly_sales\"])\n",
    "    if total_sales > highest_sales:\n",
    "        highest_sales = total_sales\n",
    "        top_store = store  # Update the top store\n",
    "\n",
    "print(\"Store with the highest sales:\", top_store)"
   ]
  },
  {
   "cell_type": "markdown",
   "metadata": {},
   "source": [
    "##### How It Works\n",
    "\n",
    "The goal of the `for` loop in this example is to identify the top store from the `store_metrics` dictionary based on its quarterly sales. Here's how it works:\n",
    "\n",
    "1. **Iterating Through the Dictionary**\n",
    "    - The `for` loop iterates through each key-value pair in the `store_metrics` dictionary. The `items()` method allows the loop to process all store data systematically.\n",
    "    - `store`: Represents the unique key (name) for each store (e.g., `\"Edmonton\"`).\n",
    "    - `metrics`: Represents the associated nested dictionary containing store details like revenue, quarterly sales, etc.\n",
    "2. **Evaluating the Condition**\n",
    "    - Inside the loop, the program uses an `if` statement to compare the `sum()` of `quarterly_sales` of the current store with the current value of `highest_sales`.\n",
    "    > **Note**: The initial value of `highest_sales` is `0`, so the first store's total sales always satisfies the condition, and it becomes the top store so far.\n",
    "3. **Updating the Top Store**\n",
    "    - If the current store sells more than the previous top store, the program updates the `highest_sales` and `top_store` variables.\n",
    "    - This ensures that by the end of the loop, the variables hold the details of top store.\n",
    "4. **After the Loop**\n",
    "    - After iterating through all stores, `top_store` contains the key of the top store.\n",
    "\n",
    "This example demonstrates how for loops and conditional logic work together to analyze datasets and extract meaningful insights."
   ]
  },
  {
   "cell_type": "markdown",
   "metadata": {},
   "source": [
    "#### Example: Finding The Top Product Sold in All Stores"
   ]
  },
  {
   "cell_type": "code",
   "execution_count": null,
   "metadata": {},
   "outputs": [],
   "source": [
    "all_top_products = []  # An empty dictionary to store product sales\n",
    "\n",
    "# Iterate over each store's metrics only (i.e., the dictionary values)\n",
    "for metrics in store_metrics.values():\n",
    "    top_product = metrics[\"top_products\"]\n",
    "    all_top_products.append(top_product)\n",
    "\n",
    "print(\"Top products in all stores:\", all_top_products)"
   ]
  },
  {
   "cell_type": "code",
   "execution_count": null,
   "metadata": {},
   "outputs": [],
   "source": [
    "common_products = all_top_products[0]  # Initialize with the first store's data\n",
    "for products in all_top_products[1:]:  # Iterate over the remaining stores\n",
    "    common_products = common_products & products  # Find the intersection\n",
    "\n",
    "print(\"The top product(s) sold in all stores:\", common_products)"
   ]
  },
  {
   "cell_type": "markdown",
   "metadata": {},
   "source": [
    "#### Example: Finding Cumulative Sales"
   ]
  },
  {
   "cell_type": "code",
   "execution_count": null,
   "metadata": {},
   "outputs": [],
   "source": [
    "daily_sales = [200, 250, 300, 200, 400, 350, 450]\n",
    "num_of_days = len(daily_sales)\n",
    "\n",
    "cumulative_sales = 0\n",
    "\n",
    "for index in range(0, num_of_days):\n",
    "    cumulative_sales += daily_sales[index]\n",
    "    if cumulative_sales >= threshold:\n",
    "        print(\"Reached the threshold on day\", index + 1)\n",
    "        break  # Exit the loop"
   ]
  },
  {
   "cell_type": "markdown",
   "metadata": {},
   "source": [
    "##### How It Works\n",
    "\n",
    "This example calculates cumulative sales over several days and checks when the total reaches a specified threshold. Here's a breakdown of how the `for` loop and its components work:\n",
    "\n",
    "1. **Iterating with `range()`**  \n",
    "   - The `range(start, stop)` function generates a sequence of numbers starting at `start` (inclusive) and ending before `stop` (exclusive). If `start` is omitted, it defaults to `0`.\n",
    "   - In this loop, `index` takes on each value from `0` to `num_of_days - 1`, representing the position (index) of the current day in the `daily_sales` list.\n",
    "   - The `range()` function is particularly useful when you need a series of numbers to control iterations, especially when working with indexed data like lists.\n",
    "\n",
    "2. **Exiting the Loop with `break`**  \n",
    "   - The `break` statement is used to exit the loop immediately once a certain condition is met.  \n",
    "   - This prevents unnecessary iterations after achieving the goal, making the program more efficient. Without the `break`, the loop would continue until all days are processed, even though the threshold had already been reached.\n",
    "   - Used here to stop the loop as soon as the `cumulative_sales` reaches or passes the `threshold`.\n",
    "\n",
    "This combination of `range()` and `break` demonstrates how to efficiently process indexed data and terminate iterations based on dynamic conditions."
   ]
  },
  {
   "cell_type": "markdown",
   "metadata": {},
   "source": [
    "#### Example: Separating Workday and Weekend Sales"
   ]
  },
  {
   "cell_type": "code",
   "execution_count": null,
   "metadata": {},
   "outputs": [],
   "source": [
    "daily_sales = [200, 250, 300, 400, 350, 450, 500]\n",
    "workday_sales = 0\n",
    "weekend_sales = 0\n",
    "\n",
    "for index in range(len(daily_sales)):  # Equivalent to range(0, len(daily_sales))\n",
    "    if index in range(1, 6):  # Workdays\n",
    "        workday_sales += daily_sales[index]\n",
    "    else:\n",
    "        weekend_sales += daily_sales[index]\n",
    "\n",
    "print(\"Total workday sales:\", workday_sales)\n",
    "print(\"Total weekend sales:\", weekend_sales)"
   ]
  },
  {
   "cell_type": "markdown",
   "metadata": {},
   "source": [
    "#### 🧑‍💻 Exercise: Identify the product with the highest total sales."
   ]
  },
  {
   "cell_type": "code",
   "execution_count": null,
   "metadata": {},
   "outputs": [],
   "source": [
    "# Daily sales by product\n",
    "daily_sales_by_product = {\n",
    "    \"Laptop\": [50, 60, 70, 40, 100, 90, 120],\n",
    "    \"Tablet\": [30, 40, 50, 30, 80, 70, 100],\n",
    "    \"Smartphone\": [70, 80, 100, 60, 120, 110, 150],\n",
    "    \"Camera\": [50, 70, 80, 70, 100, 80, 80],\n",
    "}\n",
    "\n",
    "# Step 1: Create a dictionary to store the total sales for each product\n",
    "\n",
    "# <YOUR CODE HERE>\n",
    "\n",
    "total_sales_by_product = {}\n",
    "for product, sales in daily_sales_by_product.items():\n",
    "    total_sales_by_product[product] = sum(sales)\n",
    "\n",
    "print(\"Total sales by product:\", total_sales_by_product)\n",
    "\n",
    "# Step 2: Identify the product with the highest sales\n",
    "\n",
    "# <YOUR CODE HERE>\n",
    "\n",
    "max_total_sales = max(total_sales_by_product.values())\n",
    "for product, sales in total_sales_by_product.items():\n",
    "    if sales == max_total_sales:\n",
    "        top_product = product\n",
    "        break\n",
    "\n",
    "print(\"Product with the highest sales:\", top_product)"
   ]
  },
  {
   "cell_type": "markdown",
   "metadata": {},
   "source": [
    "#### Example: Finding Average Growth Rate"
   ]
  },
  {
   "cell_type": "code",
   "execution_count": null,
   "metadata": {},
   "outputs": [],
   "source": [
    "store_metrics = {\n",
    "    \"Edmonton\": {\n",
    "        \"revenue\": 89000.75,\n",
    "        \"customer_count\": 900,\n",
    "        \"top_products\": {\"Camera\", \"Smartwatch\", \"Laptop\"},\n",
    "        \"quarterly_sales\": [500, 400, 650, 700],\n",
    "    },\n",
    "    \"Calgary\": {\n",
    "        \"revenue\": 120000.50,\n",
    "        \"customer_count\": 1200,\n",
    "        \"top_products\": {\"Laptop\", \"Smartphone\", \"Tablet\"},\n",
    "        \"quarterly_sales\": [600, 550, 750, 600],\n",
    "    },\n",
    "    \"Red_Deer\": {\n",
    "        \"revenue\": 45000.25,\n",
    "        \"customer_count\": 510,\n",
    "        \"top_products\": {\"Tablet\", \"Smartphone\", \"Laptop\"},\n",
    "        \"quarterly_sales\": [150, 200, 300, 350],\n",
    "    },\n",
    "}\n",
    "\n",
    "print(\"Average quarterly sales growth rates (%):\")\n",
    "for store, metrics in store_metrics.items():\n",
    "    quarterly_sales = metrics[\"quarterly_sales\"]\n",
    "    rates = []\n",
    "    for i in range(1, len(quarterly_sales)):\n",
    "        growth_rate = (quarterly_sales[i] - quarterly_sales[i - 1]) / quarterly_sales[i - 1]\n",
    "        rates.append(growth_rate)\n",
    "\n",
    "    average_rate = sum(rates) / len(rates)\n",
    "    print(store, \":\", average_rate * 100)"
   ]
  },
  {
   "cell_type": "markdown",
   "metadata": {},
   "source": [
    "### Recap: Why Loops Matter in Data Analytics:\n",
    "\n",
    "In this section, we explored two essential loop structures in Python:\n",
    "\n",
    "1. **`for` Loops**  \n",
    "   - Used to iterate over a sequence of items (like lists, dictionaries, or ranges).  \n",
    "   - Ideal when you know the number of iterations in advance.  \n",
    "   - Example Use Case: Calculating total sales from a list of daily sales.  \n",
    "\n",
    "2. **`while` Loops**  \n",
    "   - Repeats a block of code as long as a condition is `True`.  \n",
    "   - Useful for tasks where the number of iterations depends on a dynamic condition.  \n",
    "   - Example Use Case: Processing data until a threshold is met.\n",
    "\n",
    "Here is a summary of key differences between `for` and `while` loops:\n",
    "\n",
    "| Feature             | `for` Loop                                | `while` Loop                                |\n",
    "|---------------------|-------------------------------------------|--------------------------------------------|\n",
    "| Use Case            | Iterating over a sequence (e.g., `list`, `range`)    | Repeating tasks until a condition is met   |\n",
    "| Control Flow        | Sequential, controlled by the number of iterations     | Conditional, controlled by logical evaluation                 |\n",
    "| Syntax Simplicity   | Easier for fixed iterations               | Better for dynamic stopping conditions     |\n",
    "\n",
    "\n",
    "Loops are fundamental tools for automating repetitive tasks and processing datasets in data analytics. With loops, you can iterate through lists, process dictionaries, and dynamically adjust workflows, allowing you to:\n",
    "\n",
    "- **Automate Repetitive Tasks**: Efficiently analyze, categorize, and process large datasets.\n",
    "- **Dynamic Workflows**: Adjust or terminate loops based on real-time data.\n",
    "- **Scalability**: Handle operations for thousands or even millions of data points with minimal effort.\n",
    "\n",
    "---"
   ]
  },
  {
   "cell_type": "markdown",
   "metadata": {},
   "source": [
    "## Conclusion\n",
    "\n",
    "Congratulations on completing Part I of the Python for Data Analytics workshop! 🎉  \n",
    "\n",
    "### What We Covered Today\n",
    "1. **Programming Basics**: \n",
    "   - Variables, data types, and basic operations.\n",
    "2. **Data Structures**:\n",
    "   - Lists, sets, and dictionaries for organizing and accessing data efficiently.\n",
    "3. **Flow Control**:\n",
    "   - Conditional statements for decision-making.\n",
    "   - Loops for automating repetitive tasks.\n",
    "\n",
    "These foundational concepts are the building blocks of Python, setting the stage for more advanced analytics tasks.\n",
    "\n",
    "\n",
    "### Looking Ahead to Part II\n",
    "\n",
    "In the next session, we'll dive deeper into Python's capabilities, focusing on:\n",
    "1. **Functions**: Writing reusable and modular code.\n",
    "2. **Data Processing with Python Libraries**: Working with tools like `pandas` for cleaning and transforming datasets.\n",
    "3. **Data Visualization**: Creating impactful charts and graphs to uncover trends and tell stories with your data.\n",
    "\n",
    "We look forward to seeing you in Part II! Until then, keep practicing and exploring! 🚀"
   ]
  }
 ],
 "metadata": {
  "kernelspec": {
   "display_name": ".venv",
   "language": "python",
   "name": "python3"
  },
  "language_info": {
   "codemirror_mode": {
    "name": "ipython",
    "version": 3
   },
   "file_extension": ".py",
   "mimetype": "text/x-python",
   "name": "python",
   "nbconvert_exporter": "python",
   "pygments_lexer": "ipython3",
   "version": "3.13.0"
  }
 },
 "nbformat": 4,
 "nbformat_minor": 2
}
